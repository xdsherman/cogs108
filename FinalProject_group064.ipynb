{
 "cells": [
  {
   "cell_type": "markdown",
   "metadata": {},
   "source": [
    "# COGS 108 - Final Project "
   ]
  },
  {
   "cell_type": "markdown",
   "metadata": {},
   "source": [
    "# Notes\n",
    "- add severity\n",
    "- severity depends on hour, weather, visibility?\n",
    "- visualization severity vs [weather, rush hour, hour, etc]\n",
    "- fix intro (background, question, and hypothesis)\n",
    "- hypothesis: how do certain factors affect the severity of the accident\n",
    "- compare average severity of accident based on some factor\n"
   ]
  },
  {
   "cell_type": "markdown",
   "metadata": {},
   "source": [
    "## Permissions"
   ]
  },
  {
   "cell_type": "markdown",
   "metadata": {},
   "source": [
    "Place an `X` in the appropriate bracket below to specify if you would like your group's project to be made available to the public. (Note that PIDs will be scraped from the public submission, but student names will be included.)\n",
    "\n",
    "* [  ] YES - make available\n",
    "* [X] NO - keep private"
   ]
  },
  {
   "cell_type": "markdown",
   "metadata": {},
   "source": [
    "# Overview"
   ]
  },
  {
   "cell_type": "markdown",
   "metadata": {},
   "source": [
    "The car accidents rate in the US can be considered high.\n",
    "We analyzed that some of the factors related to accidents are weather conditions, time of the incident, visibility, and severity. In this project, we will state our initial hypothesis about the factors causing accidents. With our large dataset, we will do cleaning, visualizing, and analyzing to come up with a conclusion to prove the correctness of our hypothesis."
   ]
  },
  {
   "cell_type": "markdown",
   "metadata": {},
   "source": [
    "# Names\n",
    "\n",
    "- Carlos Wirawan\n",
    "- Albert Estevan\n",
    "- Nikolas Jody\n",
    "- Nhat Tang\n",
    "- Sheung Ho"
   ]
  },
  {
   "cell_type": "markdown",
   "metadata": {},
   "source": [
    "# Group Members IDs\n",
    "\n",
    "- A16112534\n",
    "- A16093782\n",
    "- A16105519\n",
    "- A15565669\n",
    "- A16081238"
   ]
  },
  {
   "cell_type": "markdown",
   "metadata": {},
   "source": [
    "# Research Question"
   ]
  },
  {
   "cell_type": "markdown",
   "metadata": {},
   "source": [
    "We are interested in what are the factors to cause traffic accidents in the US. As there are a lot more cars during rush hours, we want to find out the correlation between the period of time in a day/week (rush hour/non-rush hour, weekend/weekday) and the accident rate. Therefore, our research question is: Is there more accidents during rush hours due to the higher volume of traffic? At the same time, as the period of the day is not the only factor that causes a car accident, the other questions that we may also consider:\n",
    "- Does the average severity directly correlate with another factor?\n",
    "- Will the “rush-hour” time frame have the highest rate of accidents?\n",
    "- Does “rush-hour” accidents have higher severity overall?\n",
    "- Does the weather condition affect the accident rate?\n",
    "- Does the visibility of the day affect the accident rate?"
   ]
  },
  {
   "cell_type": "markdown",
   "metadata": {},
   "source": [
    "## Background and Prior Work"
   ]
  },
  {
   "cell_type": "markdown",
   "metadata": {},
   "source": [
    "In the modern age, cars are everywhere and are the main form of transportation for many people in the U.S. As a result, driving has become an almost vital skill. With the sheer volume of cars on the road, there are bound to be many accidents that occur throughout the year in the country. In fact, there are an average of six million accidents a year happening in the U.S. alone and about three million people suffer injuries because of these accidents. With these numbers, it would seem that the roads are quite dangerous even with all the current regulations(Reference 1).\n",
    "\n",
    "Thus, the goal of our project is to analyze the factors involved in accidents to see if there is some underlying connection between them. If there is a strong connection between accidents and a particular factor(s), it would be possible to reform the country based on the observed factor. For example, if the factor was time and it was observed that the time where most accidents tended to happen was rush hour, we can implement special regulations or change driver behavior so that drivers would drive more safely during this time.\n",
    "\n",
    "Current studies reveal that there are many fatal accidents during evening rush hour as compared to morning rush hour, which may be a bit odd since there should be the same amount of cars on the road during either of these times. What is also interesting is that there tend to be more accidents during the weekends than during the weekdays. The statistics vary depending on state, but it is also important to consider that these statistics were only for 2016. Thus, it is unclear if accurate conclusions can be drawn from this data alone(Reference 2).\n",
    "References:\n",
    "- 1) https://www.driverknowledge.com/car-accident-statistics/\n",
    "- 2) https://www.automoblog.net/2018/07/10/most-dangerous-times-to-drive/\n"
   ]
  },
  {
   "cell_type": "markdown",
   "metadata": {},
   "source": [
    "# Hypothesis\n"
   ]
  },
  {
   "cell_type": "markdown",
   "metadata": {},
   "source": [
    "We believe that the rate of car accidents will be higher during rush hour (3pm-6pm) on city streets. Because during rush hours people tend to be driving for a longer time than usual and the volume of cars will be high. On city streets, junctions are everywhere and that can contribute to higher number of accidents as junctions are prone to accidents.\n",
    "\n",
    "Some factors of accidents are:\n",
    "- Weather conditions : Certain weather conditions may cause  interference to a person's driving which may cause accidents.\n",
    "- Traffic volume:  The higher the number of cars on the road may increase the chance of an accident occurring.\n",
    "- Time of day: The time of day determines whether it is night or day in which the visibility differs and also rush hour time (3pm-6pm) where traffic volume increases significantly.\n",
    "- Visibility: Having a low visibility will cause people to be vulnerable to accidents.\n",
    "- Junctions: Accidents occured on junctions may have a high rate of severity.\n",
    "- Severity: the rate of the accident’s impact to the traffic surrounding the accident."
   ]
  },
  {
   "cell_type": "markdown",
   "metadata": {},
   "source": [
    "# Dataset(s)"
   ]
  },
  {
   "cell_type": "markdown",
   "metadata": {},
   "source": [
    "The data set that we are using is taken from the following web page.\n",
    "\n",
    "Link: https://www.kaggle.com/sobhanmoosavi/us-accidents\n",
    "\n",
    "Size: 1.05GB\n",
    "\n",
    "Variable:\n",
    "Time: The time of the accidents can be found in two of the columns of the dataset. One column indicates the estimated start time, and the other column indicates the estimated end time.\n",
    "Location: The data set contains the estimated latitude and the longitude of the location where the accident occurs. We are planning to use these datas to present them on a map.\n",
    "Number of accidents: The number of accidents will be the number of rows presented in the data set. This will be filtered by the start time of the accident.\n",
    "Severity of accidents: The severity can be found in the column of the data set. It shows the severity of the accident, a number between 1 and 4, where 1 indicates the least impact on traffic.\n",
    "Weather Condition: The weather is presented in the column of the data set, it indicates the weather when the accidents occured.\n",
    "\n",
    "Accuracy of data: \n",
    "The data has more than a million accident reports that occured in the United States. We are certain that with this amount of datas, we can create a good analysis. The data is taken from  https://www.kaggle.com/, an online community of data scientists and machine learning practitioners. The kaggle user who posted the data cited that the data is taken from MapQuest, an American free online web mapping service owned by Verizon Media. Thus, we are certain that the source is legitimate.\n"
   ]
  },
  {
   "cell_type": "markdown",
   "metadata": {},
   "source": [
    "# Setup"
   ]
  },
  {
   "cell_type": "code",
   "execution_count": 1,
   "metadata": {},
   "outputs": [],
   "source": [
    "# Import library\n",
    "\n",
    "import pandas as pd\n",
    "import numpy as np\n",
    "import matplotlib.pyplot as plt\n",
    "import seaborn as sns\n",
    "import math\n",
    "import patsy \n",
    "import statsmodels.api as sm\n",
    "from scipy.stats import ttest_ind, chisquare, normaltest\n",
    "\n",
    "pd.set_option('precision', 2)\n",
    "pd.options.display.max_rows = 7\n",
    "pd.options.display.max_columns = 50"
   ]
  },
  {
   "cell_type": "code",
   "execution_count": 2,
   "metadata": {},
   "outputs": [],
   "source": [
    "file_path = 'US_Accidents_Dec19.csv'\n",
    "df = pd.read_csv(file_path)"
   ]
  },
  {
   "cell_type": "code",
   "execution_count": 3,
   "metadata": {},
   "outputs": [
    {
     "data": {
      "text/html": [
       "<div>\n",
       "<style scoped>\n",
       "    .dataframe tbody tr th:only-of-type {\n",
       "        vertical-align: middle;\n",
       "    }\n",
       "\n",
       "    .dataframe tbody tr th {\n",
       "        vertical-align: top;\n",
       "    }\n",
       "\n",
       "    .dataframe thead th {\n",
       "        text-align: right;\n",
       "    }\n",
       "</style>\n",
       "<table border=\"1\" class=\"dataframe\">\n",
       "  <thead>\n",
       "    <tr style=\"text-align: right;\">\n",
       "      <th></th>\n",
       "      <th>ID</th>\n",
       "      <th>Source</th>\n",
       "      <th>TMC</th>\n",
       "      <th>Severity</th>\n",
       "      <th>Start_Time</th>\n",
       "      <th>End_Time</th>\n",
       "      <th>Start_Lat</th>\n",
       "      <th>Start_Lng</th>\n",
       "      <th>End_Lat</th>\n",
       "      <th>End_Lng</th>\n",
       "      <th>Distance(mi)</th>\n",
       "      <th>Description</th>\n",
       "      <th>Number</th>\n",
       "      <th>Street</th>\n",
       "      <th>Side</th>\n",
       "      <th>City</th>\n",
       "      <th>County</th>\n",
       "      <th>State</th>\n",
       "      <th>Zipcode</th>\n",
       "      <th>Country</th>\n",
       "      <th>Timezone</th>\n",
       "      <th>Airport_Code</th>\n",
       "      <th>Weather_Timestamp</th>\n",
       "      <th>Temperature(F)</th>\n",
       "      <th>Wind_Chill(F)</th>\n",
       "      <th>Humidity(%)</th>\n",
       "      <th>Pressure(in)</th>\n",
       "      <th>Visibility(mi)</th>\n",
       "      <th>Wind_Direction</th>\n",
       "      <th>Wind_Speed(mph)</th>\n",
       "      <th>Precipitation(in)</th>\n",
       "      <th>Weather_Condition</th>\n",
       "      <th>Amenity</th>\n",
       "      <th>Bump</th>\n",
       "      <th>Crossing</th>\n",
       "      <th>Give_Way</th>\n",
       "      <th>Junction</th>\n",
       "      <th>No_Exit</th>\n",
       "      <th>Railway</th>\n",
       "      <th>Roundabout</th>\n",
       "      <th>Station</th>\n",
       "      <th>Stop</th>\n",
       "      <th>Traffic_Calming</th>\n",
       "      <th>Traffic_Signal</th>\n",
       "      <th>Turning_Loop</th>\n",
       "      <th>Sunrise_Sunset</th>\n",
       "      <th>Civil_Twilight</th>\n",
       "      <th>Nautical_Twilight</th>\n",
       "      <th>Astronomical_Twilight</th>\n",
       "    </tr>\n",
       "  </thead>\n",
       "  <tbody>\n",
       "    <tr>\n",
       "      <th>0</th>\n",
       "      <td>A-1</td>\n",
       "      <td>MapQuest</td>\n",
       "      <td>201.0</td>\n",
       "      <td>3</td>\n",
       "      <td>2016-02-08 05:46:00</td>\n",
       "      <td>2016-02-08 11:00:00</td>\n",
       "      <td>39.87</td>\n",
       "      <td>-84.06</td>\n",
       "      <td>NaN</td>\n",
       "      <td>NaN</td>\n",
       "      <td>0.01</td>\n",
       "      <td>Right lane blocked due to accident on I-70 Eas...</td>\n",
       "      <td>NaN</td>\n",
       "      <td>I-70 E</td>\n",
       "      <td>R</td>\n",
       "      <td>Dayton</td>\n",
       "      <td>Montgomery</td>\n",
       "      <td>OH</td>\n",
       "      <td>45424</td>\n",
       "      <td>US</td>\n",
       "      <td>US/Eastern</td>\n",
       "      <td>KFFO</td>\n",
       "      <td>2016-02-08 05:58:00</td>\n",
       "      <td>36.9</td>\n",
       "      <td>NaN</td>\n",
       "      <td>91.0</td>\n",
       "      <td>29.68</td>\n",
       "      <td>10.0</td>\n",
       "      <td>Calm</td>\n",
       "      <td>NaN</td>\n",
       "      <td>0.02</td>\n",
       "      <td>Light Rain</td>\n",
       "      <td>False</td>\n",
       "      <td>False</td>\n",
       "      <td>False</td>\n",
       "      <td>False</td>\n",
       "      <td>False</td>\n",
       "      <td>False</td>\n",
       "      <td>False</td>\n",
       "      <td>False</td>\n",
       "      <td>False</td>\n",
       "      <td>False</td>\n",
       "      <td>False</td>\n",
       "      <td>False</td>\n",
       "      <td>False</td>\n",
       "      <td>Night</td>\n",
       "      <td>Night</td>\n",
       "      <td>Night</td>\n",
       "      <td>Night</td>\n",
       "    </tr>\n",
       "    <tr>\n",
       "      <th>1</th>\n",
       "      <td>A-2</td>\n",
       "      <td>MapQuest</td>\n",
       "      <td>201.0</td>\n",
       "      <td>2</td>\n",
       "      <td>2016-02-08 06:07:59</td>\n",
       "      <td>2016-02-08 06:37:59</td>\n",
       "      <td>39.93</td>\n",
       "      <td>-82.83</td>\n",
       "      <td>NaN</td>\n",
       "      <td>NaN</td>\n",
       "      <td>0.01</td>\n",
       "      <td>Accident on Brice Rd at Tussing Rd. Expect del...</td>\n",
       "      <td>2584.0</td>\n",
       "      <td>Brice Rd</td>\n",
       "      <td>L</td>\n",
       "      <td>Reynoldsburg</td>\n",
       "      <td>Franklin</td>\n",
       "      <td>OH</td>\n",
       "      <td>43068-3402</td>\n",
       "      <td>US</td>\n",
       "      <td>US/Eastern</td>\n",
       "      <td>KCMH</td>\n",
       "      <td>2016-02-08 05:51:00</td>\n",
       "      <td>37.9</td>\n",
       "      <td>NaN</td>\n",
       "      <td>100.0</td>\n",
       "      <td>29.65</td>\n",
       "      <td>10.0</td>\n",
       "      <td>Calm</td>\n",
       "      <td>NaN</td>\n",
       "      <td>0.00</td>\n",
       "      <td>Light Rain</td>\n",
       "      <td>False</td>\n",
       "      <td>False</td>\n",
       "      <td>False</td>\n",
       "      <td>False</td>\n",
       "      <td>False</td>\n",
       "      <td>False</td>\n",
       "      <td>False</td>\n",
       "      <td>False</td>\n",
       "      <td>False</td>\n",
       "      <td>False</td>\n",
       "      <td>False</td>\n",
       "      <td>False</td>\n",
       "      <td>False</td>\n",
       "      <td>Night</td>\n",
       "      <td>Night</td>\n",
       "      <td>Night</td>\n",
       "      <td>Day</td>\n",
       "    </tr>\n",
       "    <tr>\n",
       "      <th>2</th>\n",
       "      <td>A-3</td>\n",
       "      <td>MapQuest</td>\n",
       "      <td>201.0</td>\n",
       "      <td>2</td>\n",
       "      <td>2016-02-08 06:49:27</td>\n",
       "      <td>2016-02-08 07:19:27</td>\n",
       "      <td>39.06</td>\n",
       "      <td>-84.03</td>\n",
       "      <td>NaN</td>\n",
       "      <td>NaN</td>\n",
       "      <td>0.01</td>\n",
       "      <td>Accident on OH-32 State Route 32 Westbound at ...</td>\n",
       "      <td>NaN</td>\n",
       "      <td>State Route 32</td>\n",
       "      <td>R</td>\n",
       "      <td>Williamsburg</td>\n",
       "      <td>Clermont</td>\n",
       "      <td>OH</td>\n",
       "      <td>45176</td>\n",
       "      <td>US</td>\n",
       "      <td>US/Eastern</td>\n",
       "      <td>KI69</td>\n",
       "      <td>2016-02-08 06:56:00</td>\n",
       "      <td>36.0</td>\n",
       "      <td>33.3</td>\n",
       "      <td>100.0</td>\n",
       "      <td>29.67</td>\n",
       "      <td>10.0</td>\n",
       "      <td>SW</td>\n",
       "      <td>3.5</td>\n",
       "      <td>NaN</td>\n",
       "      <td>Overcast</td>\n",
       "      <td>False</td>\n",
       "      <td>False</td>\n",
       "      <td>False</td>\n",
       "      <td>False</td>\n",
       "      <td>False</td>\n",
       "      <td>False</td>\n",
       "      <td>False</td>\n",
       "      <td>False</td>\n",
       "      <td>False</td>\n",
       "      <td>False</td>\n",
       "      <td>False</td>\n",
       "      <td>True</td>\n",
       "      <td>False</td>\n",
       "      <td>Night</td>\n",
       "      <td>Night</td>\n",
       "      <td>Day</td>\n",
       "      <td>Day</td>\n",
       "    </tr>\n",
       "    <tr>\n",
       "      <th>...</th>\n",
       "      <td>...</td>\n",
       "      <td>...</td>\n",
       "      <td>...</td>\n",
       "      <td>...</td>\n",
       "      <td>...</td>\n",
       "      <td>...</td>\n",
       "      <td>...</td>\n",
       "      <td>...</td>\n",
       "      <td>...</td>\n",
       "      <td>...</td>\n",
       "      <td>...</td>\n",
       "      <td>...</td>\n",
       "      <td>...</td>\n",
       "      <td>...</td>\n",
       "      <td>...</td>\n",
       "      <td>...</td>\n",
       "      <td>...</td>\n",
       "      <td>...</td>\n",
       "      <td>...</td>\n",
       "      <td>...</td>\n",
       "      <td>...</td>\n",
       "      <td>...</td>\n",
       "      <td>...</td>\n",
       "      <td>...</td>\n",
       "      <td>...</td>\n",
       "      <td>...</td>\n",
       "      <td>...</td>\n",
       "      <td>...</td>\n",
       "      <td>...</td>\n",
       "      <td>...</td>\n",
       "      <td>...</td>\n",
       "      <td>...</td>\n",
       "      <td>...</td>\n",
       "      <td>...</td>\n",
       "      <td>...</td>\n",
       "      <td>...</td>\n",
       "      <td>...</td>\n",
       "      <td>...</td>\n",
       "      <td>...</td>\n",
       "      <td>...</td>\n",
       "      <td>...</td>\n",
       "      <td>...</td>\n",
       "      <td>...</td>\n",
       "      <td>...</td>\n",
       "      <td>...</td>\n",
       "      <td>...</td>\n",
       "      <td>...</td>\n",
       "      <td>...</td>\n",
       "      <td>...</td>\n",
       "    </tr>\n",
       "    <tr>\n",
       "      <th>2974332</th>\n",
       "      <td>A-2974356</td>\n",
       "      <td>Bing</td>\n",
       "      <td>NaN</td>\n",
       "      <td>2</td>\n",
       "      <td>2019-08-23 19:00:21</td>\n",
       "      <td>2019-08-23 19:28:49</td>\n",
       "      <td>33.78</td>\n",
       "      <td>-117.85</td>\n",
       "      <td>33.78</td>\n",
       "      <td>-117.86</td>\n",
       "      <td>0.56</td>\n",
       "      <td>At Glassell St/Grand Ave - Accident. in the ri...</td>\n",
       "      <td>NaN</td>\n",
       "      <td>Garden Grove Fwy</td>\n",
       "      <td>R</td>\n",
       "      <td>Orange</td>\n",
       "      <td>Orange</td>\n",
       "      <td>CA</td>\n",
       "      <td>92866</td>\n",
       "      <td>US</td>\n",
       "      <td>US/Pacific</td>\n",
       "      <td>KSNA</td>\n",
       "      <td>2019-08-23 18:53:00</td>\n",
       "      <td>73.0</td>\n",
       "      <td>73.0</td>\n",
       "      <td>64.0</td>\n",
       "      <td>29.74</td>\n",
       "      <td>10.0</td>\n",
       "      <td>SSW</td>\n",
       "      <td>10.0</td>\n",
       "      <td>0.00</td>\n",
       "      <td>Partly Cloudy</td>\n",
       "      <td>False</td>\n",
       "      <td>False</td>\n",
       "      <td>False</td>\n",
       "      <td>False</td>\n",
       "      <td>True</td>\n",
       "      <td>False</td>\n",
       "      <td>False</td>\n",
       "      <td>False</td>\n",
       "      <td>False</td>\n",
       "      <td>False</td>\n",
       "      <td>False</td>\n",
       "      <td>False</td>\n",
       "      <td>False</td>\n",
       "      <td>Day</td>\n",
       "      <td>Day</td>\n",
       "      <td>Day</td>\n",
       "      <td>Day</td>\n",
       "    </tr>\n",
       "    <tr>\n",
       "      <th>2974333</th>\n",
       "      <td>A-2974357</td>\n",
       "      <td>Bing</td>\n",
       "      <td>NaN</td>\n",
       "      <td>2</td>\n",
       "      <td>2019-08-23 19:00:21</td>\n",
       "      <td>2019-08-23 19:29:42</td>\n",
       "      <td>33.99</td>\n",
       "      <td>-118.40</td>\n",
       "      <td>33.98</td>\n",
       "      <td>-118.40</td>\n",
       "      <td>0.77</td>\n",
       "      <td>At CA-90/Marina Fwy/Jefferson Blvd - Accident.</td>\n",
       "      <td>NaN</td>\n",
       "      <td>San Diego Fwy S</td>\n",
       "      <td>R</td>\n",
       "      <td>Culver City</td>\n",
       "      <td>Los Angeles</td>\n",
       "      <td>CA</td>\n",
       "      <td>90230</td>\n",
       "      <td>US</td>\n",
       "      <td>US/Pacific</td>\n",
       "      <td>KSMO</td>\n",
       "      <td>2019-08-23 18:51:00</td>\n",
       "      <td>71.0</td>\n",
       "      <td>71.0</td>\n",
       "      <td>81.0</td>\n",
       "      <td>29.62</td>\n",
       "      <td>10.0</td>\n",
       "      <td>SW</td>\n",
       "      <td>8.0</td>\n",
       "      <td>0.00</td>\n",
       "      <td>Fair</td>\n",
       "      <td>False</td>\n",
       "      <td>False</td>\n",
       "      <td>False</td>\n",
       "      <td>False</td>\n",
       "      <td>False</td>\n",
       "      <td>False</td>\n",
       "      <td>False</td>\n",
       "      <td>False</td>\n",
       "      <td>False</td>\n",
       "      <td>False</td>\n",
       "      <td>False</td>\n",
       "      <td>False</td>\n",
       "      <td>False</td>\n",
       "      <td>Day</td>\n",
       "      <td>Day</td>\n",
       "      <td>Day</td>\n",
       "      <td>Day</td>\n",
       "    </tr>\n",
       "    <tr>\n",
       "      <th>2974334</th>\n",
       "      <td>A-2974358</td>\n",
       "      <td>Bing</td>\n",
       "      <td>NaN</td>\n",
       "      <td>2</td>\n",
       "      <td>2019-08-23 18:52:06</td>\n",
       "      <td>2019-08-23 19:21:31</td>\n",
       "      <td>34.13</td>\n",
       "      <td>-117.23</td>\n",
       "      <td>34.14</td>\n",
       "      <td>-117.24</td>\n",
       "      <td>0.54</td>\n",
       "      <td>At Highland Ave/Arden Ave - Accident.</td>\n",
       "      <td>NaN</td>\n",
       "      <td>CA-210 W</td>\n",
       "      <td>R</td>\n",
       "      <td>Highland</td>\n",
       "      <td>San Bernardino</td>\n",
       "      <td>CA</td>\n",
       "      <td>92346</td>\n",
       "      <td>US</td>\n",
       "      <td>US/Pacific</td>\n",
       "      <td>KSBD</td>\n",
       "      <td>2019-08-23 20:50:00</td>\n",
       "      <td>79.0</td>\n",
       "      <td>79.0</td>\n",
       "      <td>47.0</td>\n",
       "      <td>28.63</td>\n",
       "      <td>7.0</td>\n",
       "      <td>SW</td>\n",
       "      <td>7.0</td>\n",
       "      <td>0.00</td>\n",
       "      <td>Fair</td>\n",
       "      <td>False</td>\n",
       "      <td>False</td>\n",
       "      <td>False</td>\n",
       "      <td>False</td>\n",
       "      <td>False</td>\n",
       "      <td>False</td>\n",
       "      <td>False</td>\n",
       "      <td>False</td>\n",
       "      <td>False</td>\n",
       "      <td>False</td>\n",
       "      <td>False</td>\n",
       "      <td>False</td>\n",
       "      <td>False</td>\n",
       "      <td>Day</td>\n",
       "      <td>Day</td>\n",
       "      <td>Day</td>\n",
       "      <td>Day</td>\n",
       "    </tr>\n",
       "  </tbody>\n",
       "</table>\n",
       "<p>2974335 rows × 49 columns</p>\n",
       "</div>"
      ],
      "text/plain": [
       "                ID    Source    TMC  Severity           Start_Time  \\\n",
       "0              A-1  MapQuest  201.0         3  2016-02-08 05:46:00   \n",
       "1              A-2  MapQuest  201.0         2  2016-02-08 06:07:59   \n",
       "2              A-3  MapQuest  201.0         2  2016-02-08 06:49:27   \n",
       "...            ...       ...    ...       ...                  ...   \n",
       "2974332  A-2974356      Bing    NaN         2  2019-08-23 19:00:21   \n",
       "2974333  A-2974357      Bing    NaN         2  2019-08-23 19:00:21   \n",
       "2974334  A-2974358      Bing    NaN         2  2019-08-23 18:52:06   \n",
       "\n",
       "                    End_Time  Start_Lat  Start_Lng  End_Lat  End_Lng  \\\n",
       "0        2016-02-08 11:00:00      39.87     -84.06      NaN      NaN   \n",
       "1        2016-02-08 06:37:59      39.93     -82.83      NaN      NaN   \n",
       "2        2016-02-08 07:19:27      39.06     -84.03      NaN      NaN   \n",
       "...                      ...        ...        ...      ...      ...   \n",
       "2974332  2019-08-23 19:28:49      33.78    -117.85    33.78  -117.86   \n",
       "2974333  2019-08-23 19:29:42      33.99    -118.40    33.98  -118.40   \n",
       "2974334  2019-08-23 19:21:31      34.13    -117.23    34.14  -117.24   \n",
       "\n",
       "         Distance(mi)                                        Description  \\\n",
       "0                0.01  Right lane blocked due to accident on I-70 Eas...   \n",
       "1                0.01  Accident on Brice Rd at Tussing Rd. Expect del...   \n",
       "2                0.01  Accident on OH-32 State Route 32 Westbound at ...   \n",
       "...               ...                                                ...   \n",
       "2974332          0.56  At Glassell St/Grand Ave - Accident. in the ri...   \n",
       "2974333          0.77     At CA-90/Marina Fwy/Jefferson Blvd - Accident.   \n",
       "2974334          0.54              At Highland Ave/Arden Ave - Accident.   \n",
       "\n",
       "         Number            Street Side          City          County State  \\\n",
       "0           NaN            I-70 E    R        Dayton      Montgomery    OH   \n",
       "1        2584.0          Brice Rd    L  Reynoldsburg        Franklin    OH   \n",
       "2           NaN    State Route 32    R  Williamsburg        Clermont    OH   \n",
       "...         ...               ...  ...           ...             ...   ...   \n",
       "2974332     NaN  Garden Grove Fwy    R        Orange          Orange    CA   \n",
       "2974333     NaN   San Diego Fwy S    R   Culver City     Los Angeles    CA   \n",
       "2974334     NaN          CA-210 W    R      Highland  San Bernardino    CA   \n",
       "\n",
       "            Zipcode Country    Timezone Airport_Code    Weather_Timestamp  \\\n",
       "0             45424      US  US/Eastern         KFFO  2016-02-08 05:58:00   \n",
       "1        43068-3402      US  US/Eastern         KCMH  2016-02-08 05:51:00   \n",
       "2             45176      US  US/Eastern         KI69  2016-02-08 06:56:00   \n",
       "...             ...     ...         ...          ...                  ...   \n",
       "2974332       92866      US  US/Pacific         KSNA  2019-08-23 18:53:00   \n",
       "2974333       90230      US  US/Pacific         KSMO  2019-08-23 18:51:00   \n",
       "2974334       92346      US  US/Pacific         KSBD  2019-08-23 20:50:00   \n",
       "\n",
       "         Temperature(F)  Wind_Chill(F)  Humidity(%)  Pressure(in)  \\\n",
       "0                  36.9            NaN         91.0         29.68   \n",
       "1                  37.9            NaN        100.0         29.65   \n",
       "2                  36.0           33.3        100.0         29.67   \n",
       "...                 ...            ...          ...           ...   \n",
       "2974332            73.0           73.0         64.0         29.74   \n",
       "2974333            71.0           71.0         81.0         29.62   \n",
       "2974334            79.0           79.0         47.0         28.63   \n",
       "\n",
       "         Visibility(mi) Wind_Direction  Wind_Speed(mph)  Precipitation(in)  \\\n",
       "0                  10.0           Calm              NaN               0.02   \n",
       "1                  10.0           Calm              NaN               0.00   \n",
       "2                  10.0             SW              3.5                NaN   \n",
       "...                 ...            ...              ...                ...   \n",
       "2974332            10.0            SSW             10.0               0.00   \n",
       "2974333            10.0             SW              8.0               0.00   \n",
       "2974334             7.0             SW              7.0               0.00   \n",
       "\n",
       "        Weather_Condition  Amenity   Bump  Crossing  Give_Way  Junction  \\\n",
       "0              Light Rain    False  False     False     False     False   \n",
       "1              Light Rain    False  False     False     False     False   \n",
       "2                Overcast    False  False     False     False     False   \n",
       "...                   ...      ...    ...       ...       ...       ...   \n",
       "2974332     Partly Cloudy    False  False     False     False      True   \n",
       "2974333              Fair    False  False     False     False     False   \n",
       "2974334              Fair    False  False     False     False     False   \n",
       "\n",
       "         No_Exit  Railway  Roundabout  Station   Stop  Traffic_Calming  \\\n",
       "0          False    False       False    False  False            False   \n",
       "1          False    False       False    False  False            False   \n",
       "2          False    False       False    False  False            False   \n",
       "...          ...      ...         ...      ...    ...              ...   \n",
       "2974332    False    False       False    False  False            False   \n",
       "2974333    False    False       False    False  False            False   \n",
       "2974334    False    False       False    False  False            False   \n",
       "\n",
       "         Traffic_Signal  Turning_Loop Sunrise_Sunset Civil_Twilight  \\\n",
       "0                 False         False          Night          Night   \n",
       "1                 False         False          Night          Night   \n",
       "2                  True         False          Night          Night   \n",
       "...                 ...           ...            ...            ...   \n",
       "2974332           False         False            Day            Day   \n",
       "2974333           False         False            Day            Day   \n",
       "2974334           False         False            Day            Day   \n",
       "\n",
       "        Nautical_Twilight Astronomical_Twilight  \n",
       "0                   Night                 Night  \n",
       "1                   Night                   Day  \n",
       "2                     Day                   Day  \n",
       "...                   ...                   ...  \n",
       "2974332               Day                   Day  \n",
       "2974333               Day                   Day  \n",
       "2974334               Day                   Day  \n",
       "\n",
       "[2974335 rows x 49 columns]"
      ]
     },
     "execution_count": 3,
     "metadata": {},
     "output_type": "execute_result"
    }
   ],
   "source": [
    "df"
   ]
  },
  {
   "cell_type": "markdown",
   "metadata": {},
   "source": [
    "# Data Cleaning"
   ]
  },
  {
   "cell_type": "markdown",
   "metadata": {},
   "source": [
    "* From the table above, we can see that there are a lot of columns, and most of them are going to be used. So we are going to only select used columns.\n"
   ]
  },
  {
   "cell_type": "code",
   "execution_count": 4,
   "metadata": {},
   "outputs": [],
   "source": [
    "# Only consider the columns used\n",
    "df = df[['Start_Time','Weather_Condition','Visibility(mi)', 'Severity', 'Junction', 'Traffic_Signal']]"
   ]
  },
  {
   "cell_type": "markdown",
   "metadata": {},
   "source": [
    "###### Drop NAN values"
   ]
  },
  {
   "cell_type": "code",
   "execution_count": 5,
   "metadata": {},
   "outputs": [],
   "source": [
    "# Drop NAN data\n",
    "df = df.dropna(subset=['Visibility(mi)', 'Start_Time', 'Weather_Condition', 'Severity'])"
   ]
  },
  {
   "cell_type": "markdown",
   "metadata": {},
   "source": [
    "Round up the decimal values."
   ]
  },
  {
   "cell_type": "code",
   "execution_count": 6,
   "metadata": {},
   "outputs": [
    {
     "data": {
      "text/plain": [
       "10.0     2313768\n",
       "7.0        89504\n",
       "9.0        78885\n",
       "          ...   \n",
       "63.0           1\n",
       "130.0          1\n",
       "67.0           1\n",
       "Name: Visibility(mi), Length: 46, dtype: int64"
      ]
     },
     "execution_count": 6,
     "metadata": {},
     "output_type": "execute_result"
    }
   ],
   "source": [
    "df['Visibility(mi)'] = df['Visibility(mi)'].round(0)\n",
    "df['Visibility(mi)'].value_counts()"
   ]
  },
  {
   "cell_type": "markdown",
   "metadata": {},
   "source": [
    "There are only a few accidents with visibility over 20, so we are going to change the ones above 20 to 20. And we log the count value for visualization purpose."
   ]
  },
  {
   "cell_type": "code",
   "execution_count": 7,
   "metadata": {},
   "outputs": [],
   "source": [
    "def normalize(x):\n",
    "    if x >20:\n",
    "        return 20\n",
    "    else:\n",
    "        return x\n",
    "    \n",
    "def logNorm(x):\n",
    "    return math.log10(x)"
   ]
  },
  {
   "cell_type": "code",
   "execution_count": 8,
   "metadata": {},
   "outputs": [],
   "source": [
    "df['Visibility(mi)'] = df['Visibility(mi)'].apply(normalize)"
   ]
  },
  {
   "cell_type": "code",
   "execution_count": 9,
   "metadata": {},
   "outputs": [
    {
     "data": {
      "text/html": [
       "<div>\n",
       "<style scoped>\n",
       "    .dataframe tbody tr th:only-of-type {\n",
       "        vertical-align: middle;\n",
       "    }\n",
       "\n",
       "    .dataframe tbody tr th {\n",
       "        vertical-align: top;\n",
       "    }\n",
       "\n",
       "    .dataframe thead th {\n",
       "        text-align: right;\n",
       "    }\n",
       "</style>\n",
       "<table border=\"1\" class=\"dataframe\">\n",
       "  <thead>\n",
       "    <tr style=\"text-align: right;\">\n",
       "      <th></th>\n",
       "      <th>Start_Time</th>\n",
       "      <th>Weather_Condition</th>\n",
       "      <th>Visibility(mi)</th>\n",
       "      <th>Severity</th>\n",
       "      <th>Junction</th>\n",
       "      <th>Traffic_Signal</th>\n",
       "    </tr>\n",
       "  </thead>\n",
       "  <tbody>\n",
       "    <tr>\n",
       "      <th>0</th>\n",
       "      <td>2016-02-08 05:46:00</td>\n",
       "      <td>Light Rain</td>\n",
       "      <td>10.0</td>\n",
       "      <td>3</td>\n",
       "      <td>False</td>\n",
       "      <td>False</td>\n",
       "    </tr>\n",
       "    <tr>\n",
       "      <th>1</th>\n",
       "      <td>2016-02-08 06:07:59</td>\n",
       "      <td>Light Rain</td>\n",
       "      <td>10.0</td>\n",
       "      <td>2</td>\n",
       "      <td>False</td>\n",
       "      <td>False</td>\n",
       "    </tr>\n",
       "    <tr>\n",
       "      <th>2</th>\n",
       "      <td>2016-02-08 06:49:27</td>\n",
       "      <td>Overcast</td>\n",
       "      <td>10.0</td>\n",
       "      <td>2</td>\n",
       "      <td>False</td>\n",
       "      <td>True</td>\n",
       "    </tr>\n",
       "    <tr>\n",
       "      <th>...</th>\n",
       "      <td>...</td>\n",
       "      <td>...</td>\n",
       "      <td>...</td>\n",
       "      <td>...</td>\n",
       "      <td>...</td>\n",
       "      <td>...</td>\n",
       "    </tr>\n",
       "    <tr>\n",
       "      <th>2974332</th>\n",
       "      <td>2019-08-23 19:00:21</td>\n",
       "      <td>Partly Cloudy</td>\n",
       "      <td>10.0</td>\n",
       "      <td>2</td>\n",
       "      <td>True</td>\n",
       "      <td>False</td>\n",
       "    </tr>\n",
       "    <tr>\n",
       "      <th>2974333</th>\n",
       "      <td>2019-08-23 19:00:21</td>\n",
       "      <td>Fair</td>\n",
       "      <td>10.0</td>\n",
       "      <td>2</td>\n",
       "      <td>False</td>\n",
       "      <td>False</td>\n",
       "    </tr>\n",
       "    <tr>\n",
       "      <th>2974334</th>\n",
       "      <td>2019-08-23 18:52:06</td>\n",
       "      <td>Fair</td>\n",
       "      <td>7.0</td>\n",
       "      <td>2</td>\n",
       "      <td>False</td>\n",
       "      <td>False</td>\n",
       "    </tr>\n",
       "  </tbody>\n",
       "</table>\n",
       "<p>2901212 rows × 6 columns</p>\n",
       "</div>"
      ],
      "text/plain": [
       "                  Start_Time Weather_Condition  Visibility(mi)  Severity  \\\n",
       "0        2016-02-08 05:46:00        Light Rain            10.0         3   \n",
       "1        2016-02-08 06:07:59        Light Rain            10.0         2   \n",
       "2        2016-02-08 06:49:27          Overcast            10.0         2   \n",
       "...                      ...               ...             ...       ...   \n",
       "2974332  2019-08-23 19:00:21     Partly Cloudy            10.0         2   \n",
       "2974333  2019-08-23 19:00:21              Fair            10.0         2   \n",
       "2974334  2019-08-23 18:52:06              Fair             7.0         2   \n",
       "\n",
       "         Junction  Traffic_Signal  \n",
       "0           False           False  \n",
       "1           False           False  \n",
       "2           False            True  \n",
       "...           ...             ...  \n",
       "2974332      True           False  \n",
       "2974333     False           False  \n",
       "2974334     False           False  \n",
       "\n",
       "[2901212 rows x 6 columns]"
      ]
     },
     "execution_count": 9,
     "metadata": {},
     "output_type": "execute_result"
    }
   ],
   "source": [
    "df"
   ]
  },
  {
   "cell_type": "code",
   "execution_count": 10,
   "metadata": {},
   "outputs": [
    {
     "data": {
      "text/plain": [
       "10.0    2313768\n",
       "7.0       89504\n",
       "9.0       78885\n",
       "         ...   \n",
       "14.0          6\n",
       "19.0          2\n",
       "16.0          1\n",
       "Name: Visibility(mi), Length: 19, dtype: int64"
      ]
     },
     "execution_count": 10,
     "metadata": {},
     "output_type": "execute_result"
    }
   ],
   "source": [
    "visibility_counts = df['Visibility(mi)'].value_counts()\n",
    "visibility_counts"
   ]
  },
  {
   "cell_type": "code",
   "execution_count": 11,
   "metadata": {},
   "outputs": [],
   "source": [
    "visibility_counts = visibility_counts.apply(logNorm)"
   ]
  },
  {
   "cell_type": "code",
   "execution_count": 12,
   "metadata": {},
   "outputs": [],
   "source": [
    "# Sort Index\n",
    "visibility_counts = visibility_counts.sort_index()"
   ]
  },
  {
   "cell_type": "markdown",
   "metadata": {},
   "source": [
    "Set the index to a list as the x axis, set the values as the y axis."
   ]
  },
  {
   "cell_type": "code",
   "execution_count": 13,
   "metadata": {},
   "outputs": [
    {
     "data": {
      "text/plain": [
       "[<matplotlib.lines.Line2D at 0x7f3577c0e160>]"
      ]
     },
     "execution_count": 13,
     "metadata": {},
     "output_type": "execute_result"
    },
    {
     "data": {
      "image/png": "[encoded data removed]",
      "text/plain": [
       "<Figure size 432x288 with 1 Axes>"
      ]
     },
     "metadata": {
      "needs_background": "light"
     },
     "output_type": "display_data"
    }
   ],
   "source": [
    "x = visibility_counts.index.tolist()\n",
    "y = visibility_counts.tolist()\n",
    "plt.plot(x,y)"
   ]
  },
  {
   "cell_type": "markdown",
   "metadata": {},
   "source": [
    "###### Clean the start-time and end time"
   ]
  },
  {
   "cell_type": "markdown",
   "metadata": {},
   "source": [
    "Clear the date"
   ]
  },
  {
   "cell_type": "code",
   "execution_count": 14,
   "metadata": {},
   "outputs": [],
   "source": [
    "df_updated = df.replace(to_replace ='[0-9]{4}-[0-9]{2}-[0-9]{2} ', value = '', regex = True)"
   ]
  },
  {
   "cell_type": "markdown",
   "metadata": {},
   "source": [
    "Make a new column called 'Hour' to keep track of the time round down to the nearest hour."
   ]
  },
  {
   "cell_type": "code",
   "execution_count": 15,
   "metadata": {},
   "outputs": [
    {
     "data": {
      "text/html": [
       "<div>\n",
       "<style scoped>\n",
       "    .dataframe tbody tr th:only-of-type {\n",
       "        vertical-align: middle;\n",
       "    }\n",
       "\n",
       "    .dataframe tbody tr th {\n",
       "        vertical-align: top;\n",
       "    }\n",
       "\n",
       "    .dataframe thead th {\n",
       "        text-align: right;\n",
       "    }\n",
       "</style>\n",
       "<table border=\"1\" class=\"dataframe\">\n",
       "  <thead>\n",
       "    <tr style=\"text-align: right;\">\n",
       "      <th></th>\n",
       "      <th>Start_Time</th>\n",
       "      <th>Weather_Condition</th>\n",
       "      <th>Visibility(mi)</th>\n",
       "      <th>Severity</th>\n",
       "      <th>Junction</th>\n",
       "      <th>Traffic_Signal</th>\n",
       "      <th>Hour</th>\n",
       "    </tr>\n",
       "  </thead>\n",
       "  <tbody>\n",
       "    <tr>\n",
       "      <th>0</th>\n",
       "      <td>05:46:00</td>\n",
       "      <td>Light Rain</td>\n",
       "      <td>10.0</td>\n",
       "      <td>3</td>\n",
       "      <td>False</td>\n",
       "      <td>False</td>\n",
       "      <td>05:46:00</td>\n",
       "    </tr>\n",
       "    <tr>\n",
       "      <th>1</th>\n",
       "      <td>06:07:59</td>\n",
       "      <td>Light Rain</td>\n",
       "      <td>10.0</td>\n",
       "      <td>2</td>\n",
       "      <td>False</td>\n",
       "      <td>False</td>\n",
       "      <td>06:07:59</td>\n",
       "    </tr>\n",
       "    <tr>\n",
       "      <th>2</th>\n",
       "      <td>06:49:27</td>\n",
       "      <td>Overcast</td>\n",
       "      <td>10.0</td>\n",
       "      <td>2</td>\n",
       "      <td>False</td>\n",
       "      <td>True</td>\n",
       "      <td>06:49:27</td>\n",
       "    </tr>\n",
       "    <tr>\n",
       "      <th>3</th>\n",
       "      <td>07:23:34</td>\n",
       "      <td>Mostly Cloudy</td>\n",
       "      <td>9.0</td>\n",
       "      <td>3</td>\n",
       "      <td>False</td>\n",
       "      <td>False</td>\n",
       "      <td>07:23:34</td>\n",
       "    </tr>\n",
       "    <tr>\n",
       "      <th>4</th>\n",
       "      <td>07:39:07</td>\n",
       "      <td>Mostly Cloudy</td>\n",
       "      <td>6.0</td>\n",
       "      <td>2</td>\n",
       "      <td>False</td>\n",
       "      <td>True</td>\n",
       "      <td>07:39:07</td>\n",
       "    </tr>\n",
       "  </tbody>\n",
       "</table>\n",
       "</div>"
      ],
      "text/plain": [
       "  Start_Time Weather_Condition  Visibility(mi)  Severity  Junction  \\\n",
       "0   05:46:00        Light Rain            10.0         3     False   \n",
       "1   06:07:59        Light Rain            10.0         2     False   \n",
       "2   06:49:27          Overcast            10.0         2     False   \n",
       "3   07:23:34     Mostly Cloudy             9.0         3     False   \n",
       "4   07:39:07     Mostly Cloudy             6.0         2     False   \n",
       "\n",
       "   Traffic_Signal      Hour  \n",
       "0           False  05:46:00  \n",
       "1           False  06:07:59  \n",
       "2            True  06:49:27  \n",
       "3           False  07:23:34  \n",
       "4            True  07:39:07  "
      ]
     },
     "execution_count": 15,
     "metadata": {},
     "output_type": "execute_result"
    }
   ],
   "source": [
    "df_updated=df_updated.assign(Hour = df_updated['Start_Time'])\n",
    "df_updated.head()"
   ]
  },
  {
   "cell_type": "code",
   "execution_count": 16,
   "metadata": {},
   "outputs": [
    {
     "data": {
      "text/html": [
       "<div>\n",
       "<style scoped>\n",
       "    .dataframe tbody tr th:only-of-type {\n",
       "        vertical-align: middle;\n",
       "    }\n",
       "\n",
       "    .dataframe tbody tr th {\n",
       "        vertical-align: top;\n",
       "    }\n",
       "\n",
       "    .dataframe thead th {\n",
       "        text-align: right;\n",
       "    }\n",
       "</style>\n",
       "<table border=\"1\" class=\"dataframe\">\n",
       "  <thead>\n",
       "    <tr style=\"text-align: right;\">\n",
       "      <th></th>\n",
       "      <th>Start_Time</th>\n",
       "      <th>Weather_Condition</th>\n",
       "      <th>Visibility(mi)</th>\n",
       "      <th>Severity</th>\n",
       "      <th>Junction</th>\n",
       "      <th>Traffic_Signal</th>\n",
       "      <th>Hour</th>\n",
       "    </tr>\n",
       "  </thead>\n",
       "  <tbody>\n",
       "    <tr>\n",
       "      <th>0</th>\n",
       "      <td>05:46:00</td>\n",
       "      <td>Light Rain</td>\n",
       "      <td>10.0</td>\n",
       "      <td>3</td>\n",
       "      <td>False</td>\n",
       "      <td>False</td>\n",
       "      <td>05</td>\n",
       "    </tr>\n",
       "    <tr>\n",
       "      <th>1</th>\n",
       "      <td>06:07:59</td>\n",
       "      <td>Light Rain</td>\n",
       "      <td>10.0</td>\n",
       "      <td>2</td>\n",
       "      <td>False</td>\n",
       "      <td>False</td>\n",
       "      <td>06</td>\n",
       "    </tr>\n",
       "    <tr>\n",
       "      <th>2</th>\n",
       "      <td>06:49:27</td>\n",
       "      <td>Overcast</td>\n",
       "      <td>10.0</td>\n",
       "      <td>2</td>\n",
       "      <td>False</td>\n",
       "      <td>True</td>\n",
       "      <td>06</td>\n",
       "    </tr>\n",
       "    <tr>\n",
       "      <th>3</th>\n",
       "      <td>07:23:34</td>\n",
       "      <td>Mostly Cloudy</td>\n",
       "      <td>9.0</td>\n",
       "      <td>3</td>\n",
       "      <td>False</td>\n",
       "      <td>False</td>\n",
       "      <td>07</td>\n",
       "    </tr>\n",
       "    <tr>\n",
       "      <th>4</th>\n",
       "      <td>07:39:07</td>\n",
       "      <td>Mostly Cloudy</td>\n",
       "      <td>6.0</td>\n",
       "      <td>2</td>\n",
       "      <td>False</td>\n",
       "      <td>True</td>\n",
       "      <td>07</td>\n",
       "    </tr>\n",
       "  </tbody>\n",
       "</table>\n",
       "</div>"
      ],
      "text/plain": [
       "  Start_Time Weather_Condition  Visibility(mi)  Severity  Junction  \\\n",
       "0   05:46:00        Light Rain            10.0         3     False   \n",
       "1   06:07:59        Light Rain            10.0         2     False   \n",
       "2   06:49:27          Overcast            10.0         2     False   \n",
       "3   07:23:34     Mostly Cloudy             9.0         3     False   \n",
       "4   07:39:07     Mostly Cloudy             6.0         2     False   \n",
       "\n",
       "   Traffic_Signal Hour  \n",
       "0           False   05  \n",
       "1           False   06  \n",
       "2            True   06  \n",
       "3           False   07  \n",
       "4            True   07  "
      ]
     },
     "execution_count": 16,
     "metadata": {},
     "output_type": "execute_result"
    }
   ],
   "source": [
    "df_updated['Hour'] = df_updated['Hour'].replace(to_replace =':[0-9]{2}:[0-9]{2}', value = '', regex = True)\n",
    "df_updated.head()"
   ]
  },
  {
   "cell_type": "markdown",
   "metadata": {},
   "source": [
    "Group them by rush hour and non rush hour"
   ]
  },
  {
   "cell_type": "code",
   "execution_count": 17,
   "metadata": {
    "scrolled": true
   },
   "outputs": [],
   "source": [
    "df_hour=df_updated.groupby('Hour').size()\n",
    "\n",
    "# change string to int\n",
    "df_updated['Hour'] = pd.to_numeric(df_updated['Hour'])"
   ]
  },
  {
   "cell_type": "code",
   "execution_count": 18,
   "metadata": {},
   "outputs": [
    {
     "data": {
      "text/html": [
       "<div>\n",
       "<style scoped>\n",
       "    .dataframe tbody tr th:only-of-type {\n",
       "        vertical-align: middle;\n",
       "    }\n",
       "\n",
       "    .dataframe tbody tr th {\n",
       "        vertical-align: top;\n",
       "    }\n",
       "\n",
       "    .dataframe thead th {\n",
       "        text-align: right;\n",
       "    }\n",
       "</style>\n",
       "<table border=\"1\" class=\"dataframe\">\n",
       "  <thead>\n",
       "    <tr style=\"text-align: right;\">\n",
       "      <th></th>\n",
       "      <th>Start_Time</th>\n",
       "      <th>Weather_Condition</th>\n",
       "      <th>Visibility(mi)</th>\n",
       "      <th>Severity</th>\n",
       "      <th>Junction</th>\n",
       "      <th>Traffic_Signal</th>\n",
       "      <th>Hour</th>\n",
       "      <th>Rush_Hour</th>\n",
       "    </tr>\n",
       "  </thead>\n",
       "  <tbody>\n",
       "    <tr>\n",
       "      <th>0</th>\n",
       "      <td>05:46:00</td>\n",
       "      <td>Light Rain</td>\n",
       "      <td>10.0</td>\n",
       "      <td>3</td>\n",
       "      <td>False</td>\n",
       "      <td>False</td>\n",
       "      <td>5</td>\n",
       "      <td>False</td>\n",
       "    </tr>\n",
       "    <tr>\n",
       "      <th>1</th>\n",
       "      <td>06:07:59</td>\n",
       "      <td>Light Rain</td>\n",
       "      <td>10.0</td>\n",
       "      <td>2</td>\n",
       "      <td>False</td>\n",
       "      <td>False</td>\n",
       "      <td>6</td>\n",
       "      <td>True</td>\n",
       "    </tr>\n",
       "    <tr>\n",
       "      <th>2</th>\n",
       "      <td>06:49:27</td>\n",
       "      <td>Overcast</td>\n",
       "      <td>10.0</td>\n",
       "      <td>2</td>\n",
       "      <td>False</td>\n",
       "      <td>True</td>\n",
       "      <td>6</td>\n",
       "      <td>True</td>\n",
       "    </tr>\n",
       "    <tr>\n",
       "      <th>...</th>\n",
       "      <td>...</td>\n",
       "      <td>...</td>\n",
       "      <td>...</td>\n",
       "      <td>...</td>\n",
       "      <td>...</td>\n",
       "      <td>...</td>\n",
       "      <td>...</td>\n",
       "      <td>...</td>\n",
       "    </tr>\n",
       "    <tr>\n",
       "      <th>2974332</th>\n",
       "      <td>19:00:21</td>\n",
       "      <td>Partly Cloudy</td>\n",
       "      <td>10.0</td>\n",
       "      <td>2</td>\n",
       "      <td>True</td>\n",
       "      <td>False</td>\n",
       "      <td>19</td>\n",
       "      <td>True</td>\n",
       "    </tr>\n",
       "    <tr>\n",
       "      <th>2974333</th>\n",
       "      <td>19:00:21</td>\n",
       "      <td>Fair</td>\n",
       "      <td>10.0</td>\n",
       "      <td>2</td>\n",
       "      <td>False</td>\n",
       "      <td>False</td>\n",
       "      <td>19</td>\n",
       "      <td>True</td>\n",
       "    </tr>\n",
       "    <tr>\n",
       "      <th>2974334</th>\n",
       "      <td>18:52:06</td>\n",
       "      <td>Fair</td>\n",
       "      <td>7.0</td>\n",
       "      <td>2</td>\n",
       "      <td>False</td>\n",
       "      <td>False</td>\n",
       "      <td>18</td>\n",
       "      <td>True</td>\n",
       "    </tr>\n",
       "  </tbody>\n",
       "</table>\n",
       "<p>2901212 rows × 8 columns</p>\n",
       "</div>"
      ],
      "text/plain": [
       "        Start_Time Weather_Condition  Visibility(mi)  Severity  Junction  \\\n",
       "0         05:46:00        Light Rain            10.0         3     False   \n",
       "1         06:07:59        Light Rain            10.0         2     False   \n",
       "2         06:49:27          Overcast            10.0         2     False   \n",
       "...            ...               ...             ...       ...       ...   \n",
       "2974332   19:00:21     Partly Cloudy            10.0         2      True   \n",
       "2974333   19:00:21              Fair            10.0         2     False   \n",
       "2974334   18:52:06              Fair             7.0         2     False   \n",
       "\n",
       "         Traffic_Signal  Hour  Rush_Hour  \n",
       "0                 False     5      False  \n",
       "1                 False     6       True  \n",
       "2                  True     6       True  \n",
       "...                 ...   ...        ...  \n",
       "2974332           False    19       True  \n",
       "2974333           False    19       True  \n",
       "2974334           False    18       True  \n",
       "\n",
       "[2901212 rows x 8 columns]"
      ]
     },
     "execution_count": 18,
     "metadata": {},
     "output_type": "execute_result"
    }
   ],
   "source": [
    "df_updated['Rush_Hour'] = np.where(((df_updated['Hour']>=16) & (df_updated['Hour']<20) | (df_updated['Hour'] >= 6) & (df_updated['Hour'] < 10)), True, False)\n",
    "df_updated"
   ]
  },
  {
   "cell_type": "markdown",
   "metadata": {},
   "source": [
    "Split the data set into two dataframes that contains only the rush hour accident and only the non rush hour accident."
   ]
  },
  {
   "cell_type": "code",
   "execution_count": 19,
   "metadata": {
    "scrolled": true
   },
   "outputs": [
    {
     "data": {
      "text/html": [
       "<div>\n",
       "<style scoped>\n",
       "    .dataframe tbody tr th:only-of-type {\n",
       "        vertical-align: middle;\n",
       "    }\n",
       "\n",
       "    .dataframe tbody tr th {\n",
       "        vertical-align: top;\n",
       "    }\n",
       "\n",
       "    .dataframe thead th {\n",
       "        text-align: right;\n",
       "    }\n",
       "</style>\n",
       "<table border=\"1\" class=\"dataframe\">\n",
       "  <thead>\n",
       "    <tr style=\"text-align: right;\">\n",
       "      <th></th>\n",
       "      <th>Start_Time</th>\n",
       "      <th>Weather_Condition</th>\n",
       "      <th>Visibility(mi)</th>\n",
       "      <th>Severity</th>\n",
       "      <th>Junction</th>\n",
       "      <th>Traffic_Signal</th>\n",
       "      <th>Hour</th>\n",
       "      <th>Rush_Hour</th>\n",
       "    </tr>\n",
       "  </thead>\n",
       "  <tbody>\n",
       "    <tr>\n",
       "      <th>1</th>\n",
       "      <td>06:07:59</td>\n",
       "      <td>Light Rain</td>\n",
       "      <td>10.0</td>\n",
       "      <td>2</td>\n",
       "      <td>False</td>\n",
       "      <td>False</td>\n",
       "      <td>6</td>\n",
       "      <td>True</td>\n",
       "    </tr>\n",
       "    <tr>\n",
       "      <th>2</th>\n",
       "      <td>06:49:27</td>\n",
       "      <td>Overcast</td>\n",
       "      <td>10.0</td>\n",
       "      <td>2</td>\n",
       "      <td>False</td>\n",
       "      <td>True</td>\n",
       "      <td>6</td>\n",
       "      <td>True</td>\n",
       "    </tr>\n",
       "    <tr>\n",
       "      <th>3</th>\n",
       "      <td>07:23:34</td>\n",
       "      <td>Mostly Cloudy</td>\n",
       "      <td>9.0</td>\n",
       "      <td>3</td>\n",
       "      <td>False</td>\n",
       "      <td>False</td>\n",
       "      <td>7</td>\n",
       "      <td>True</td>\n",
       "    </tr>\n",
       "    <tr>\n",
       "      <th>...</th>\n",
       "      <td>...</td>\n",
       "      <td>...</td>\n",
       "      <td>...</td>\n",
       "      <td>...</td>\n",
       "      <td>...</td>\n",
       "      <td>...</td>\n",
       "      <td>...</td>\n",
       "      <td>...</td>\n",
       "    </tr>\n",
       "    <tr>\n",
       "      <th>2974332</th>\n",
       "      <td>19:00:21</td>\n",
       "      <td>Partly Cloudy</td>\n",
       "      <td>10.0</td>\n",
       "      <td>2</td>\n",
       "      <td>True</td>\n",
       "      <td>False</td>\n",
       "      <td>19</td>\n",
       "      <td>True</td>\n",
       "    </tr>\n",
       "    <tr>\n",
       "      <th>2974333</th>\n",
       "      <td>19:00:21</td>\n",
       "      <td>Fair</td>\n",
       "      <td>10.0</td>\n",
       "      <td>2</td>\n",
       "      <td>False</td>\n",
       "      <td>False</td>\n",
       "      <td>19</td>\n",
       "      <td>True</td>\n",
       "    </tr>\n",
       "    <tr>\n",
       "      <th>2974334</th>\n",
       "      <td>18:52:06</td>\n",
       "      <td>Fair</td>\n",
       "      <td>7.0</td>\n",
       "      <td>2</td>\n",
       "      <td>False</td>\n",
       "      <td>False</td>\n",
       "      <td>18</td>\n",
       "      <td>True</td>\n",
       "    </tr>\n",
       "  </tbody>\n",
       "</table>\n",
       "<p>1582878 rows × 8 columns</p>\n",
       "</div>"
      ],
      "text/plain": [
       "        Start_Time Weather_Condition  Visibility(mi)  Severity  Junction  \\\n",
       "1         06:07:59        Light Rain            10.0         2     False   \n",
       "2         06:49:27          Overcast            10.0         2     False   \n",
       "3         07:23:34     Mostly Cloudy             9.0         3     False   \n",
       "...            ...               ...             ...       ...       ...   \n",
       "2974332   19:00:21     Partly Cloudy            10.0         2      True   \n",
       "2974333   19:00:21              Fair            10.0         2     False   \n",
       "2974334   18:52:06              Fair             7.0         2     False   \n",
       "\n",
       "         Traffic_Signal  Hour  Rush_Hour  \n",
       "1                 False     6       True  \n",
       "2                  True     6       True  \n",
       "3                 False     7       True  \n",
       "...                 ...   ...        ...  \n",
       "2974332           False    19       True  \n",
       "2974333           False    19       True  \n",
       "2974334           False    18       True  \n",
       "\n",
       "[1582878 rows x 8 columns]"
      ]
     },
     "execution_count": 19,
     "metadata": {},
     "output_type": "execute_result"
    }
   ],
   "source": [
    "df_rushhour = df_updated[df_updated['Rush_Hour'] == True]\n",
    "df_rushhour"
   ]
  },
  {
   "cell_type": "code",
   "execution_count": 20,
   "metadata": {},
   "outputs": [
    {
     "data": {
      "text/plain": [
       "Hour\n",
       "6     164525\n",
       "7     267036\n",
       "8     277671\n",
       "       ...  \n",
       "17    216721\n",
       "18    163489\n",
       "19    112686\n",
       "Length: 8, dtype: int64"
      ]
     },
     "execution_count": 20,
     "metadata": {},
     "output_type": "execute_result"
    }
   ],
   "source": [
    "df_rushhour.groupby('Hour').size()"
   ]
  },
  {
   "cell_type": "code",
   "execution_count": 21,
   "metadata": {},
   "outputs": [
    {
     "data": {
      "text/html": [
       "<div>\n",
       "<style scoped>\n",
       "    .dataframe tbody tr th:only-of-type {\n",
       "        vertical-align: middle;\n",
       "    }\n",
       "\n",
       "    .dataframe tbody tr th {\n",
       "        vertical-align: top;\n",
       "    }\n",
       "\n",
       "    .dataframe thead th {\n",
       "        text-align: right;\n",
       "    }\n",
       "</style>\n",
       "<table border=\"1\" class=\"dataframe\">\n",
       "  <thead>\n",
       "    <tr style=\"text-align: right;\">\n",
       "      <th></th>\n",
       "      <th>Start_Time</th>\n",
       "      <th>Weather_Condition</th>\n",
       "      <th>Visibility(mi)</th>\n",
       "      <th>Severity</th>\n",
       "      <th>Junction</th>\n",
       "      <th>Traffic_Signal</th>\n",
       "      <th>Hour</th>\n",
       "      <th>Rush_Hour</th>\n",
       "    </tr>\n",
       "  </thead>\n",
       "  <tbody>\n",
       "    <tr>\n",
       "      <th>0</th>\n",
       "      <td>05:46:00</td>\n",
       "      <td>Light Rain</td>\n",
       "      <td>10.0</td>\n",
       "      <td>3</td>\n",
       "      <td>False</td>\n",
       "      <td>False</td>\n",
       "      <td>5</td>\n",
       "      <td>False</td>\n",
       "    </tr>\n",
       "    <tr>\n",
       "      <th>20</th>\n",
       "      <td>10:11:15</td>\n",
       "      <td>Light Snow</td>\n",
       "      <td>2.0</td>\n",
       "      <td>2</td>\n",
       "      <td>False</td>\n",
       "      <td>False</td>\n",
       "      <td>10</td>\n",
       "      <td>False</td>\n",
       "    </tr>\n",
       "    <tr>\n",
       "      <th>21</th>\n",
       "      <td>10:24:27</td>\n",
       "      <td>Mostly Cloudy</td>\n",
       "      <td>10.0</td>\n",
       "      <td>2</td>\n",
       "      <td>False</td>\n",
       "      <td>False</td>\n",
       "      <td>10</td>\n",
       "      <td>False</td>\n",
       "    </tr>\n",
       "    <tr>\n",
       "      <th>...</th>\n",
       "      <td>...</td>\n",
       "      <td>...</td>\n",
       "      <td>...</td>\n",
       "      <td>...</td>\n",
       "      <td>...</td>\n",
       "      <td>...</td>\n",
       "      <td>...</td>\n",
       "      <td>...</td>\n",
       "    </tr>\n",
       "    <tr>\n",
       "      <th>2974314</th>\n",
       "      <td>15:23:31</td>\n",
       "      <td>Fair</td>\n",
       "      <td>8.0</td>\n",
       "      <td>2</td>\n",
       "      <td>True</td>\n",
       "      <td>False</td>\n",
       "      <td>15</td>\n",
       "      <td>False</td>\n",
       "    </tr>\n",
       "    <tr>\n",
       "      <th>2974315</th>\n",
       "      <td>15:33:46</td>\n",
       "      <td>Fair</td>\n",
       "      <td>10.0</td>\n",
       "      <td>2</td>\n",
       "      <td>True</td>\n",
       "      <td>False</td>\n",
       "      <td>15</td>\n",
       "      <td>False</td>\n",
       "    </tr>\n",
       "    <tr>\n",
       "      <th>2974317</th>\n",
       "      <td>15:45:43</td>\n",
       "      <td>Fair</td>\n",
       "      <td>10.0</td>\n",
       "      <td>2</td>\n",
       "      <td>True</td>\n",
       "      <td>False</td>\n",
       "      <td>15</td>\n",
       "      <td>False</td>\n",
       "    </tr>\n",
       "  </tbody>\n",
       "</table>\n",
       "<p>1318334 rows × 8 columns</p>\n",
       "</div>"
      ],
      "text/plain": [
       "        Start_Time Weather_Condition  Visibility(mi)  Severity  Junction  \\\n",
       "0         05:46:00        Light Rain            10.0         3     False   \n",
       "20        10:11:15        Light Snow             2.0         2     False   \n",
       "21        10:24:27     Mostly Cloudy            10.0         2     False   \n",
       "...            ...               ...             ...       ...       ...   \n",
       "2974314   15:23:31              Fair             8.0         2      True   \n",
       "2974315   15:33:46              Fair            10.0         2      True   \n",
       "2974317   15:45:43              Fair            10.0         2      True   \n",
       "\n",
       "         Traffic_Signal  Hour  Rush_Hour  \n",
       "0                 False     5      False  \n",
       "20                False    10      False  \n",
       "21                False    10      False  \n",
       "...                 ...   ...        ...  \n",
       "2974314           False    15      False  \n",
       "2974315           False    15      False  \n",
       "2974317           False    15      False  \n",
       "\n",
       "[1318334 rows x 8 columns]"
      ]
     },
     "execution_count": 21,
     "metadata": {},
     "output_type": "execute_result"
    }
   ],
   "source": [
    "df_nonrushhour = df_updated[df_updated['Rush_Hour'] == False]\n",
    "\n",
    "df_nonrushhour"
   ]
  },
  {
   "cell_type": "code",
   "execution_count": 22,
   "metadata": {},
   "outputs": [
    {
     "name": "stdout",
     "output_type": "stream",
     "text": [
      "(1318334, 8)\n",
      "(1582878, 8)\n"
     ]
    }
   ],
   "source": [
    "# Check out the size of the df\n",
    "print(df_nonrushhour.shape)\n",
    "print(df_rushhour.shape)"
   ]
  },
  {
   "cell_type": "markdown",
   "metadata": {},
   "source": [
    "Visualize and compare the visibility of accidents occured dduring rush hour and non rush hour."
   ]
  },
  {
   "cell_type": "code",
   "execution_count": 23,
   "metadata": {},
   "outputs": [
    {
     "data": {
      "text/plain": [
       "0.0     19068\n",
       "1.0     22800\n",
       "2.0     41132\n",
       "        ...  \n",
       "16.0        1\n",
       "19.0        1\n",
       "20.0     7213\n",
       "Name: Visibility(mi), Length: 19, dtype: int64"
      ]
     },
     "execution_count": 23,
     "metadata": {},
     "output_type": "execute_result"
    }
   ],
   "source": [
    "df_rushhour['Visibility(mi)'].value_counts().sort_index()"
   ]
  },
  {
   "cell_type": "code",
   "execution_count": 24,
   "metadata": {},
   "outputs": [
    {
     "data": {
      "text/plain": [
       "0.0     10296\n",
       "1.0     15705\n",
       "2.0     30670\n",
       "        ...  \n",
       "15.0     1098\n",
       "19.0        1\n",
       "20.0     3654\n",
       "Name: Visibility(mi), Length: 18, dtype: int64"
      ]
     },
     "execution_count": 24,
     "metadata": {},
     "output_type": "execute_result"
    }
   ],
   "source": [
    "df_nonrushhour['Visibility(mi)'].value_counts().sort_index()"
   ]
  },
  {
   "cell_type": "markdown",
   "metadata": {},
   "source": [
    "Clean Weather data and group them into 4 categories:\n",
    "- Percipitation\n",
    "- Clear\n",
    "- Cloudy\n",
    "- Other"
   ]
  },
  {
   "cell_type": "code",
   "execution_count": 25,
   "metadata": {},
   "outputs": [],
   "source": [
    "def standardize_weather(string):\n",
    "    \n",
    "    string = string.lower()\n",
    "    string = string.strip()\n",
    "    \n",
    "    if 'snow' in string:\n",
    "        output = 'PRECIPITATION'\n",
    "    elif 'ice' in string:\n",
    "        output = 'PRECIPITATION'\n",
    "    elif 'wintry' in string:\n",
    "        output = 'PRECIPITATION'\n",
    "    elif 'hail' in string:\n",
    "        output = 'PRECIPITATION'\n",
    "    elif 'clear' in string:\n",
    "        output = 'CLEAR'\n",
    "    elif 'rain' in string:\n",
    "        output = 'PRECIPITATION'\n",
    "    elif 'drizzle' in string:\n",
    "        output = 'PRECIPITATION'\n",
    "    elif 'thunder' in string:\n",
    "        output = 'PRECIPITATION'\n",
    "    elif 't-storm' in string:\n",
    "        output = 'PRECIPITATION'\n",
    "    elif 'haze' in string:\n",
    "        output = 'OTHER'\n",
    "    elif 'mist' in string:\n",
    "        output = 'OTHER'\n",
    "    elif 'partly cloudy' in string:\n",
    "        output = 'CLEAR'\n",
    "    elif 'cloud' in  string:\n",
    "        output = 'CLOUDY'\n",
    "    elif 'overcast' in  string:\n",
    "        output = 'CLOUDY'\n",
    "    elif 'fair' in  string:\n",
    "        output = 'CLEAR'\n",
    "    else:\n",
    "        output = 'OTHER'\n",
    "    return output"
   ]
  },
  {
   "cell_type": "code",
   "execution_count": 26,
   "metadata": {},
   "outputs": [],
   "source": [
    "df_updated = df_updated.dropna(subset=['Weather_Condition'])\n",
    "df_updated['Weather_Condition'] = df_updated['Weather_Condition'].apply(standardize_weather)"
   ]
  },
  {
   "cell_type": "code",
   "execution_count": 27,
   "metadata": {},
   "outputs": [
    {
     "data": {
      "text/html": [
       "<div>\n",
       "<style scoped>\n",
       "    .dataframe tbody tr th:only-of-type {\n",
       "        vertical-align: middle;\n",
       "    }\n",
       "\n",
       "    .dataframe tbody tr th {\n",
       "        vertical-align: top;\n",
       "    }\n",
       "\n",
       "    .dataframe thead th {\n",
       "        text-align: right;\n",
       "    }\n",
       "</style>\n",
       "<table border=\"1\" class=\"dataframe\">\n",
       "  <thead>\n",
       "    <tr style=\"text-align: right;\">\n",
       "      <th></th>\n",
       "      <th>Start_Time</th>\n",
       "      <th>Weather_Condition</th>\n",
       "      <th>Visibility(mi)</th>\n",
       "      <th>Severity</th>\n",
       "      <th>Junction</th>\n",
       "      <th>Traffic_Signal</th>\n",
       "      <th>Hour</th>\n",
       "      <th>Rush_Hour</th>\n",
       "    </tr>\n",
       "  </thead>\n",
       "  <tbody>\n",
       "    <tr>\n",
       "      <th>0</th>\n",
       "      <td>05:46:00</td>\n",
       "      <td>PRECIPITATION</td>\n",
       "      <td>10.0</td>\n",
       "      <td>3</td>\n",
       "      <td>False</td>\n",
       "      <td>False</td>\n",
       "      <td>5</td>\n",
       "      <td>False</td>\n",
       "    </tr>\n",
       "    <tr>\n",
       "      <th>1</th>\n",
       "      <td>06:07:59</td>\n",
       "      <td>PRECIPITATION</td>\n",
       "      <td>10.0</td>\n",
       "      <td>2</td>\n",
       "      <td>False</td>\n",
       "      <td>False</td>\n",
       "      <td>6</td>\n",
       "      <td>True</td>\n",
       "    </tr>\n",
       "    <tr>\n",
       "      <th>2</th>\n",
       "      <td>06:49:27</td>\n",
       "      <td>CLOUDY</td>\n",
       "      <td>10.0</td>\n",
       "      <td>2</td>\n",
       "      <td>False</td>\n",
       "      <td>True</td>\n",
       "      <td>6</td>\n",
       "      <td>True</td>\n",
       "    </tr>\n",
       "    <tr>\n",
       "      <th>3</th>\n",
       "      <td>07:23:34</td>\n",
       "      <td>CLOUDY</td>\n",
       "      <td>9.0</td>\n",
       "      <td>3</td>\n",
       "      <td>False</td>\n",
       "      <td>False</td>\n",
       "      <td>7</td>\n",
       "      <td>True</td>\n",
       "    </tr>\n",
       "    <tr>\n",
       "      <th>4</th>\n",
       "      <td>07:39:07</td>\n",
       "      <td>CLOUDY</td>\n",
       "      <td>6.0</td>\n",
       "      <td>2</td>\n",
       "      <td>False</td>\n",
       "      <td>True</td>\n",
       "      <td>7</td>\n",
       "      <td>True</td>\n",
       "    </tr>\n",
       "  </tbody>\n",
       "</table>\n",
       "</div>"
      ],
      "text/plain": [
       "  Start_Time Weather_Condition  Visibility(mi)  Severity  Junction  \\\n",
       "0   05:46:00     PRECIPITATION            10.0         3     False   \n",
       "1   06:07:59     PRECIPITATION            10.0         2     False   \n",
       "2   06:49:27            CLOUDY            10.0         2     False   \n",
       "3   07:23:34            CLOUDY             9.0         3     False   \n",
       "4   07:39:07            CLOUDY             6.0         2     False   \n",
       "\n",
       "   Traffic_Signal  Hour  Rush_Hour  \n",
       "0           False     5      False  \n",
       "1           False     6       True  \n",
       "2            True     6       True  \n",
       "3           False     7       True  \n",
       "4            True     7       True  "
      ]
     },
     "execution_count": 27,
     "metadata": {},
     "output_type": "execute_result"
    }
   ],
   "source": [
    "df_updated.head()"
   ]
  },
  {
   "cell_type": "code",
   "execution_count": 28,
   "metadata": {},
   "outputs": [
    {
     "data": {
      "text/html": [
       "<div>\n",
       "<style scoped>\n",
       "    .dataframe tbody tr th:only-of-type {\n",
       "        vertical-align: middle;\n",
       "    }\n",
       "\n",
       "    .dataframe tbody tr th {\n",
       "        vertical-align: top;\n",
       "    }\n",
       "\n",
       "    .dataframe thead th {\n",
       "        text-align: right;\n",
       "    }\n",
       "</style>\n",
       "<table border=\"1\" class=\"dataframe\">\n",
       "  <thead>\n",
       "    <tr style=\"text-align: right;\">\n",
       "      <th></th>\n",
       "      <th>Start_Time</th>\n",
       "      <th>Weather_Condition</th>\n",
       "      <th>Visibility(mi)</th>\n",
       "      <th>Severity</th>\n",
       "      <th>Junction</th>\n",
       "      <th>Traffic_Signal</th>\n",
       "      <th>Hour</th>\n",
       "      <th>Rush_Hour</th>\n",
       "      <th>junct_traff</th>\n",
       "    </tr>\n",
       "  </thead>\n",
       "  <tbody>\n",
       "    <tr>\n",
       "      <th>0</th>\n",
       "      <td>05:46:00</td>\n",
       "      <td>PRECIPITATION</td>\n",
       "      <td>10.0</td>\n",
       "      <td>3</td>\n",
       "      <td>False</td>\n",
       "      <td>False</td>\n",
       "      <td>5</td>\n",
       "      <td>False</td>\n",
       "      <td>False</td>\n",
       "    </tr>\n",
       "    <tr>\n",
       "      <th>1</th>\n",
       "      <td>06:07:59</td>\n",
       "      <td>PRECIPITATION</td>\n",
       "      <td>10.0</td>\n",
       "      <td>2</td>\n",
       "      <td>False</td>\n",
       "      <td>False</td>\n",
       "      <td>6</td>\n",
       "      <td>True</td>\n",
       "      <td>False</td>\n",
       "    </tr>\n",
       "    <tr>\n",
       "      <th>2</th>\n",
       "      <td>06:49:27</td>\n",
       "      <td>CLOUDY</td>\n",
       "      <td>10.0</td>\n",
       "      <td>2</td>\n",
       "      <td>False</td>\n",
       "      <td>True</td>\n",
       "      <td>6</td>\n",
       "      <td>True</td>\n",
       "      <td>True</td>\n",
       "    </tr>\n",
       "    <tr>\n",
       "      <th>...</th>\n",
       "      <td>...</td>\n",
       "      <td>...</td>\n",
       "      <td>...</td>\n",
       "      <td>...</td>\n",
       "      <td>...</td>\n",
       "      <td>...</td>\n",
       "      <td>...</td>\n",
       "      <td>...</td>\n",
       "      <td>...</td>\n",
       "    </tr>\n",
       "    <tr>\n",
       "      <th>2974332</th>\n",
       "      <td>19:00:21</td>\n",
       "      <td>CLEAR</td>\n",
       "      <td>10.0</td>\n",
       "      <td>2</td>\n",
       "      <td>True</td>\n",
       "      <td>False</td>\n",
       "      <td>19</td>\n",
       "      <td>True</td>\n",
       "      <td>True</td>\n",
       "    </tr>\n",
       "    <tr>\n",
       "      <th>2974333</th>\n",
       "      <td>19:00:21</td>\n",
       "      <td>CLEAR</td>\n",
       "      <td>10.0</td>\n",
       "      <td>2</td>\n",
       "      <td>False</td>\n",
       "      <td>False</td>\n",
       "      <td>19</td>\n",
       "      <td>True</td>\n",
       "      <td>False</td>\n",
       "    </tr>\n",
       "    <tr>\n",
       "      <th>2974334</th>\n",
       "      <td>18:52:06</td>\n",
       "      <td>CLEAR</td>\n",
       "      <td>7.0</td>\n",
       "      <td>2</td>\n",
       "      <td>False</td>\n",
       "      <td>False</td>\n",
       "      <td>18</td>\n",
       "      <td>True</td>\n",
       "      <td>False</td>\n",
       "    </tr>\n",
       "  </tbody>\n",
       "</table>\n",
       "<p>2901212 rows × 9 columns</p>\n",
       "</div>"
      ],
      "text/plain": [
       "        Start_Time Weather_Condition  Visibility(mi)  Severity  Junction  \\\n",
       "0         05:46:00     PRECIPITATION            10.0         3     False   \n",
       "1         06:07:59     PRECIPITATION            10.0         2     False   \n",
       "2         06:49:27            CLOUDY            10.0         2     False   \n",
       "...            ...               ...             ...       ...       ...   \n",
       "2974332   19:00:21             CLEAR            10.0         2      True   \n",
       "2974333   19:00:21             CLEAR            10.0         2     False   \n",
       "2974334   18:52:06             CLEAR             7.0         2     False   \n",
       "\n",
       "         Traffic_Signal  Hour  Rush_Hour  junct_traff  \n",
       "0                 False     5      False        False  \n",
       "1                 False     6       True        False  \n",
       "2                  True     6       True         True  \n",
       "...                 ...   ...        ...          ...  \n",
       "2974332           False    19       True         True  \n",
       "2974333           False    19       True        False  \n",
       "2974334           False    18       True        False  \n",
       "\n",
       "[2901212 rows x 9 columns]"
      ]
     },
     "execution_count": 28,
     "metadata": {},
     "output_type": "execute_result"
    }
   ],
   "source": [
    "df_updated['junct_traff'] = np.where(((df_updated['Junction']==True) | (df_updated['Traffic_Signal'] == True)), True, False)\n",
    "df_updated"
   ]
  },
  {
   "cell_type": "code",
   "execution_count": 29,
   "metadata": {},
   "outputs": [
    {
     "data": {
      "text/html": [
       "<div>\n",
       "<style scoped>\n",
       "    .dataframe tbody tr th:only-of-type {\n",
       "        vertical-align: middle;\n",
       "    }\n",
       "\n",
       "    .dataframe tbody tr th {\n",
       "        vertical-align: top;\n",
       "    }\n",
       "\n",
       "    .dataframe thead th {\n",
       "        text-align: right;\n",
       "    }\n",
       "</style>\n",
       "<table border=\"1\" class=\"dataframe\">\n",
       "  <thead>\n",
       "    <tr style=\"text-align: right;\">\n",
       "      <th></th>\n",
       "      <th>Start_Time</th>\n",
       "      <th>Weather_Condition</th>\n",
       "      <th>Visibility(mi)</th>\n",
       "      <th>Severity</th>\n",
       "      <th>Junction</th>\n",
       "      <th>Traffic_Signal</th>\n",
       "      <th>Hour</th>\n",
       "      <th>Rush_Hour</th>\n",
       "      <th>junct_traff</th>\n",
       "      <th>junct_traff_rush</th>\n",
       "    </tr>\n",
       "  </thead>\n",
       "  <tbody>\n",
       "    <tr>\n",
       "      <th>0</th>\n",
       "      <td>05:46:00</td>\n",
       "      <td>PRECIPITATION</td>\n",
       "      <td>10.0</td>\n",
       "      <td>3</td>\n",
       "      <td>False</td>\n",
       "      <td>False</td>\n",
       "      <td>5</td>\n",
       "      <td>False</td>\n",
       "      <td>False</td>\n",
       "      <td>False</td>\n",
       "    </tr>\n",
       "    <tr>\n",
       "      <th>1</th>\n",
       "      <td>06:07:59</td>\n",
       "      <td>PRECIPITATION</td>\n",
       "      <td>10.0</td>\n",
       "      <td>2</td>\n",
       "      <td>False</td>\n",
       "      <td>False</td>\n",
       "      <td>6</td>\n",
       "      <td>True</td>\n",
       "      <td>False</td>\n",
       "      <td>False</td>\n",
       "    </tr>\n",
       "    <tr>\n",
       "      <th>2</th>\n",
       "      <td>06:49:27</td>\n",
       "      <td>CLOUDY</td>\n",
       "      <td>10.0</td>\n",
       "      <td>2</td>\n",
       "      <td>False</td>\n",
       "      <td>True</td>\n",
       "      <td>6</td>\n",
       "      <td>True</td>\n",
       "      <td>True</td>\n",
       "      <td>True</td>\n",
       "    </tr>\n",
       "    <tr>\n",
       "      <th>...</th>\n",
       "      <td>...</td>\n",
       "      <td>...</td>\n",
       "      <td>...</td>\n",
       "      <td>...</td>\n",
       "      <td>...</td>\n",
       "      <td>...</td>\n",
       "      <td>...</td>\n",
       "      <td>...</td>\n",
       "      <td>...</td>\n",
       "      <td>...</td>\n",
       "    </tr>\n",
       "    <tr>\n",
       "      <th>2974332</th>\n",
       "      <td>19:00:21</td>\n",
       "      <td>CLEAR</td>\n",
       "      <td>10.0</td>\n",
       "      <td>2</td>\n",
       "      <td>True</td>\n",
       "      <td>False</td>\n",
       "      <td>19</td>\n",
       "      <td>True</td>\n",
       "      <td>True</td>\n",
       "      <td>True</td>\n",
       "    </tr>\n",
       "    <tr>\n",
       "      <th>2974333</th>\n",
       "      <td>19:00:21</td>\n",
       "      <td>CLEAR</td>\n",
       "      <td>10.0</td>\n",
       "      <td>2</td>\n",
       "      <td>False</td>\n",
       "      <td>False</td>\n",
       "      <td>19</td>\n",
       "      <td>True</td>\n",
       "      <td>False</td>\n",
       "      <td>False</td>\n",
       "    </tr>\n",
       "    <tr>\n",
       "      <th>2974334</th>\n",
       "      <td>18:52:06</td>\n",
       "      <td>CLEAR</td>\n",
       "      <td>7.0</td>\n",
       "      <td>2</td>\n",
       "      <td>False</td>\n",
       "      <td>False</td>\n",
       "      <td>18</td>\n",
       "      <td>True</td>\n",
       "      <td>False</td>\n",
       "      <td>False</td>\n",
       "    </tr>\n",
       "  </tbody>\n",
       "</table>\n",
       "<p>2901212 rows × 10 columns</p>\n",
       "</div>"
      ],
      "text/plain": [
       "        Start_Time Weather_Condition  Visibility(mi)  Severity  Junction  \\\n",
       "0         05:46:00     PRECIPITATION            10.0         3     False   \n",
       "1         06:07:59     PRECIPITATION            10.0         2     False   \n",
       "2         06:49:27            CLOUDY            10.0         2     False   \n",
       "...            ...               ...             ...       ...       ...   \n",
       "2974332   19:00:21             CLEAR            10.0         2      True   \n",
       "2974333   19:00:21             CLEAR            10.0         2     False   \n",
       "2974334   18:52:06             CLEAR             7.0         2     False   \n",
       "\n",
       "         Traffic_Signal  Hour  Rush_Hour  junct_traff  junct_traff_rush  \n",
       "0                 False     5      False        False             False  \n",
       "1                 False     6       True        False             False  \n",
       "2                  True     6       True         True              True  \n",
       "...                 ...   ...        ...          ...               ...  \n",
       "2974332           False    19       True         True              True  \n",
       "2974333           False    19       True        False             False  \n",
       "2974334           False    18       True        False             False  \n",
       "\n",
       "[2901212 rows x 10 columns]"
      ]
     },
     "execution_count": 29,
     "metadata": {},
     "output_type": "execute_result"
    }
   ],
   "source": [
    "df_updated['junct_traff_rush'] = np.where((((df_updated['Junction']==True) | (df_updated['Traffic_Signal'] == True)) & (df_updated['Rush_Hour'] == True)), True, False)\n",
    "df_updated"
   ]
  },
  {
   "cell_type": "code",
   "execution_count": 30,
   "metadata": {},
   "outputs": [
    {
     "data": {
      "text/html": [
       "<div>\n",
       "<style scoped>\n",
       "    .dataframe tbody tr th:only-of-type {\n",
       "        vertical-align: middle;\n",
       "    }\n",
       "\n",
       "    .dataframe tbody tr th {\n",
       "        vertical-align: top;\n",
       "    }\n",
       "\n",
       "    .dataframe thead th {\n",
       "        text-align: right;\n",
       "    }\n",
       "</style>\n",
       "<table border=\"1\" class=\"dataframe\">\n",
       "  <thead>\n",
       "    <tr style=\"text-align: right;\">\n",
       "      <th></th>\n",
       "      <th>Start_Time</th>\n",
       "      <th>Weather_Condition</th>\n",
       "      <th>Visibility(mi)</th>\n",
       "      <th>Severity</th>\n",
       "      <th>Junction</th>\n",
       "      <th>Traffic_Signal</th>\n",
       "      <th>Hour</th>\n",
       "      <th>Rush_Hour</th>\n",
       "      <th>junct_traff</th>\n",
       "      <th>junct_traff_rush</th>\n",
       "      <th>junct_traff_nonrush</th>\n",
       "    </tr>\n",
       "  </thead>\n",
       "  <tbody>\n",
       "    <tr>\n",
       "      <th>0</th>\n",
       "      <td>05:46:00</td>\n",
       "      <td>PRECIPITATION</td>\n",
       "      <td>10.0</td>\n",
       "      <td>3</td>\n",
       "      <td>False</td>\n",
       "      <td>False</td>\n",
       "      <td>5</td>\n",
       "      <td>False</td>\n",
       "      <td>False</td>\n",
       "      <td>False</td>\n",
       "      <td>False</td>\n",
       "    </tr>\n",
       "    <tr>\n",
       "      <th>1</th>\n",
       "      <td>06:07:59</td>\n",
       "      <td>PRECIPITATION</td>\n",
       "      <td>10.0</td>\n",
       "      <td>2</td>\n",
       "      <td>False</td>\n",
       "      <td>False</td>\n",
       "      <td>6</td>\n",
       "      <td>True</td>\n",
       "      <td>False</td>\n",
       "      <td>False</td>\n",
       "      <td>False</td>\n",
       "    </tr>\n",
       "    <tr>\n",
       "      <th>2</th>\n",
       "      <td>06:49:27</td>\n",
       "      <td>CLOUDY</td>\n",
       "      <td>10.0</td>\n",
       "      <td>2</td>\n",
       "      <td>False</td>\n",
       "      <td>True</td>\n",
       "      <td>6</td>\n",
       "      <td>True</td>\n",
       "      <td>True</td>\n",
       "      <td>True</td>\n",
       "      <td>False</td>\n",
       "    </tr>\n",
       "    <tr>\n",
       "      <th>...</th>\n",
       "      <td>...</td>\n",
       "      <td>...</td>\n",
       "      <td>...</td>\n",
       "      <td>...</td>\n",
       "      <td>...</td>\n",
       "      <td>...</td>\n",
       "      <td>...</td>\n",
       "      <td>...</td>\n",
       "      <td>...</td>\n",
       "      <td>...</td>\n",
       "      <td>...</td>\n",
       "    </tr>\n",
       "    <tr>\n",
       "      <th>2974332</th>\n",
       "      <td>19:00:21</td>\n",
       "      <td>CLEAR</td>\n",
       "      <td>10.0</td>\n",
       "      <td>2</td>\n",
       "      <td>True</td>\n",
       "      <td>False</td>\n",
       "      <td>19</td>\n",
       "      <td>True</td>\n",
       "      <td>True</td>\n",
       "      <td>True</td>\n",
       "      <td>False</td>\n",
       "    </tr>\n",
       "    <tr>\n",
       "      <th>2974333</th>\n",
       "      <td>19:00:21</td>\n",
       "      <td>CLEAR</td>\n",
       "      <td>10.0</td>\n",
       "      <td>2</td>\n",
       "      <td>False</td>\n",
       "      <td>False</td>\n",
       "      <td>19</td>\n",
       "      <td>True</td>\n",
       "      <td>False</td>\n",
       "      <td>False</td>\n",
       "      <td>False</td>\n",
       "    </tr>\n",
       "    <tr>\n",
       "      <th>2974334</th>\n",
       "      <td>18:52:06</td>\n",
       "      <td>CLEAR</td>\n",
       "      <td>7.0</td>\n",
       "      <td>2</td>\n",
       "      <td>False</td>\n",
       "      <td>False</td>\n",
       "      <td>18</td>\n",
       "      <td>True</td>\n",
       "      <td>False</td>\n",
       "      <td>False</td>\n",
       "      <td>False</td>\n",
       "    </tr>\n",
       "  </tbody>\n",
       "</table>\n",
       "<p>2901212 rows × 11 columns</p>\n",
       "</div>"
      ],
      "text/plain": [
       "        Start_Time Weather_Condition  Visibility(mi)  Severity  Junction  \\\n",
       "0         05:46:00     PRECIPITATION            10.0         3     False   \n",
       "1         06:07:59     PRECIPITATION            10.0         2     False   \n",
       "2         06:49:27            CLOUDY            10.0         2     False   \n",
       "...            ...               ...             ...       ...       ...   \n",
       "2974332   19:00:21             CLEAR            10.0         2      True   \n",
       "2974333   19:00:21             CLEAR            10.0         2     False   \n",
       "2974334   18:52:06             CLEAR             7.0         2     False   \n",
       "\n",
       "         Traffic_Signal  Hour  Rush_Hour  junct_traff  junct_traff_rush  \\\n",
       "0                 False     5      False        False             False   \n",
       "1                 False     6       True        False             False   \n",
       "2                  True     6       True         True              True   \n",
       "...                 ...   ...        ...          ...               ...   \n",
       "2974332           False    19       True         True              True   \n",
       "2974333           False    19       True        False             False   \n",
       "2974334           False    18       True        False             False   \n",
       "\n",
       "         junct_traff_nonrush  \n",
       "0                      False  \n",
       "1                      False  \n",
       "2                      False  \n",
       "...                      ...  \n",
       "2974332                False  \n",
       "2974333                False  \n",
       "2974334                False  \n",
       "\n",
       "[2901212 rows x 11 columns]"
      ]
     },
     "execution_count": 30,
     "metadata": {},
     "output_type": "execute_result"
    }
   ],
   "source": [
    "df_updated['junct_traff_nonrush'] = np.where((((df_updated['Junction']==True) | (df_updated['Traffic_Signal'] == True)) & (df_updated['Rush_Hour'] == False)), True, False)\n",
    "df_updated"
   ]
  },
  {
   "cell_type": "markdown",
   "metadata": {},
   "source": [
    "# Data Analysis & Results"
   ]
  },
  {
   "cell_type": "markdown",
   "metadata": {},
   "source": [
    "Let's take a look at what our data looks like when we visualize it using various graphs. First, let's look at how the number of car crashes varies by the hour of day."
   ]
  },
  {
   "cell_type": "code",
   "execution_count": 31,
   "metadata": {},
   "outputs": [
    {
     "data": {
      "text/plain": [
       "<matplotlib.axes._subplots.AxesSubplot at 0x7f356ead0be0>"
      ]
     },
     "execution_count": 31,
     "metadata": {},
     "output_type": "execute_result"
    },
    {
     "data": {
      "image/png": "[encoded data removed]",
      "text/plain": [
       "<Figure size 432x288 with 1 Axes>"
      ]
     },
     "metadata": {
      "needs_background": "light"
     },
     "output_type": "display_data"
    }
   ],
   "source": [
    "sns.countplot(x = 'Hour', data = df_updated)"
   ]
  },
  {
   "cell_type": "code",
   "execution_count": 32,
   "metadata": {},
   "outputs": [
    {
     "name": "stdout",
     "output_type": "stream",
     "text": [
      "[<matplotlib.axis.XTick object at 0x7f35691b70b8>, <matplotlib.axis.XTick object at 0x7f356920a1d0>, <matplotlib.axis.XTick object at 0x7f356920acf8>, <matplotlib.axis.XTick object at 0x7f3569155d30>, <matplotlib.axis.XTick object at 0x7f3569171978>, <matplotlib.axis.XTick object at 0x7f3569171e48>, <matplotlib.axis.XTick object at 0x7f3569179358>, <matplotlib.axis.XTick object at 0x7f356915f0f0>, <matplotlib.axis.XTick object at 0x7f3569179a58>, <matplotlib.axis.XTick object at 0x7f3569179e48>, <matplotlib.axis.XTick object at 0x7f356917f400>, <matplotlib.axis.XTick object at 0x7f356917f978>]\n"
     ]
    },
    {
     "data": {
      "image/png": "[encoded data removed]",
      "text/plain": [
       "<Figure size 1224x504 with 1 Axes>"
      ]
     },
     "metadata": {},
     "output_type": "display_data"
    }
   ],
   "source": [
    "# plt.rcParams['figure.figsize'] = (17, 7)\n",
    "# sns.set()\n",
    "# ax = sns.distplot((df_updated['Hour']), kde = False, bins = 12)\n",
    "# print(ax.xaxis.set_ticks(np.arange(0, 23, 2)))\n",
    "# del ax"
   ]
  },
  {
   "cell_type": "markdown",
   "metadata": {},
   "source": [
    "Here, we see that the data distribution appears to be bimodal, spiking at around 8AM and 4PM. There must be something special about these times that correlates with a higher number of accidents. For one, these hours are within the morning and evening rush hours so that could be the factor that relates to a higher number of accidents. Let's try to figure out the probability that a car crash occurs during rush hour. Since we made a column in our dataframe earlier to sort each accident into rush hour and non-rush hour, we can just graph the data using a bar graph."
   ]
  },
  {
   "cell_type": "code",
   "execution_count": 33,
   "metadata": {},
   "outputs": [
    {
     "data": {
      "text/plain": [
       "<matplotlib.axes._subplots.AxesSubplot at 0x7f35691196a0>"
      ]
     },
     "execution_count": 33,
     "metadata": {},
     "output_type": "execute_result"
    },
    {
     "data": {
      "image/png": "[encoded data removed]",
      "text/plain": [
       "<Figure size 1224x504 with 1 Axes>"
      ]
     },
     "metadata": {},
     "output_type": "display_data"
    }
   ],
   "source": [
    "sns.countplot(x = 'Rush_Hour', data = df_updated)"
   ]
  },
  {
   "cell_type": "markdown",
   "metadata": {},
   "source": [
    "From this graph, we see that there are more accidents that occur during rush hour than during non-rush hours, but we need a value so we can do a more detailed analysis."
   ]
  },
  {
   "cell_type": "code",
   "execution_count": 34,
   "metadata": {},
   "outputs": [
    {
     "data": {
      "text/plain": [
       "0.5455919801793182"
      ]
     },
     "execution_count": 34,
     "metadata": {},
     "output_type": "execute_result"
    }
   ],
   "source": [
    "probability_rush = sum(df_updated['Rush_Hour'])/len(df_updated['Rush_Hour'])\n",
    "probability_rush"
   ]
  },
  {
   "cell_type": "markdown",
   "metadata": {},
   "source": [
    "With this probability, we can predict how many accidents are rush-hour accidents from a random sample or group of accidents. If we repeat this procedure many times and graph the results, we will get something that looks like a binomial distribution. Let's say we have 10000 trials, so n = 10000 and we repeat the procedure 10000 times. For the sake of our analysis let's have the null hypothesis be that there is an equal chance that accidents occur during rush hour and during non-rush hour (probability = 0.5). If we make a binomial distribution using the probability from the null hypothesis and the probability that we got from our data, we can compare the two distributions to see if there is a significant difference between the two."
   ]
  },
  {
   "cell_type": "code",
   "execution_count": 35,
   "metadata": {},
   "outputs": [
    {
     "data": {
      "text/plain": [
       "<matplotlib.axes._subplots.AxesSubplot at 0x7f3569167e80>"
      ]
     },
     "execution_count": 35,
     "metadata": {},
     "output_type": "execute_result"
    },
    {
     "data": {
      "image/png": "[encoded data removed]",
      "text/plain": [
       "<Figure size 1224x504 with 1 Axes>"
      ]
     },
     "metadata": {},
     "output_type": "display_data"
    }
   ],
   "source": [
    "#binomial distribution using probability from data\n",
    "binom_rush = np.random.binomial(10000, probability_rush, 10000)\n",
    "sns.distplot(binom_rush, kde = False, bins = 10)"
   ]
  },
  {
   "cell_type": "code",
   "execution_count": 36,
   "metadata": {},
   "outputs": [
    {
     "data": {
      "text/plain": [
       "<matplotlib.axes._subplots.AxesSubplot at 0x7f35690e7ac8>"
      ]
     },
     "execution_count": 36,
     "metadata": {},
     "output_type": "execute_result"
    },
    {
     "data": {
      "image/png": "[encoded data removed]",
      "text/plain": [
       "<Figure size 1224x504 with 1 Axes>"
      ]
     },
     "metadata": {},
     "output_type": "display_data"
    }
   ],
   "source": [
    "#binomial distribution using hypothesis probability\n",
    "binom_hypo = np.random.binomial(10000, 0.5, 10000)\n",
    "sns.distplot(binom_hypo, kde = False, bins = 10)"
   ]
  },
  {
   "cell_type": "code",
   "execution_count": 37,
   "metadata": {},
   "outputs": [
    {
     "name": "stdout",
     "output_type": "stream",
     "text": [
      "0.0\n"
     ]
    }
   ],
   "source": [
    "#compare the distributions to see if there is a significant difference\n",
    "t_val, p_val = ttest_ind(binom_rush, binom_hypo)\n",
    "print(p_val)"
   ]
  },
  {
   "cell_type": "code",
   "execution_count": 38,
   "metadata": {},
   "outputs": [
    {
     "name": "stdout",
     "output_type": "stream",
     "text": [
      "There IS a significant difference between the two distributions.\n"
     ]
    }
   ],
   "source": [
    "#using an alpha level of 0.01\n",
    "if p_val<0.01:\n",
    "    print('There IS a significant difference between the two distributions.')\n",
    "else:\n",
    "    print('There is NOT a significant difference between the two distributions.')"
   ]
  },
  {
   "cell_type": "markdown",
   "metadata": {},
   "source": [
    "The data should tell us that there is a significant difference between the two distributions. From this, we can see that our data does not match with the null hypothesis (that the probability is 0.5) so we have enough evidence to reject it. Thus, we can conclude that the proability of car accidents being rush hour or non-rush hour is not 50%. From our evidence, we can say that it is more likely that car accidents occur during rush hour."
   ]
  },
  {
   "cell_type": "markdown",
   "metadata": {},
   "source": [
    "Next, let's visualize how the number of accidents varies with visibility."
   ]
  },
  {
   "cell_type": "code",
   "execution_count": 39,
   "metadata": {},
   "outputs": [
    {
     "name": "stderr",
     "output_type": "stream",
     "text": [
      "/opt/conda/lib/python3.6/site-packages/scipy/stats/stats.py:1713: FutureWarning: Using a non-tuple sequence for multidimensional indexing is deprecated; use `arr[tuple(seq)]` instead of `arr[seq]`. In the future this will be interpreted as an array index, `arr[np.array(seq)]`, which will result either in an error or a different result.\n",
      "  return np.add.reduce(sorted[indexer] * weights, axis=axis) / sumval\n"
     ]
    },
    {
     "data": {
      "text/plain": [
       "<matplotlib.axes._subplots.AxesSubplot at 0x7f35690aa940>"
      ]
     },
     "execution_count": 39,
     "metadata": {},
     "output_type": "execute_result"
    },
    {
     "data": {
      "image/png": "[encoded data removed]",
      "text/plain": [
       "<Figure size 1224x504 with 1 Axes>"
      ]
     },
     "metadata": {},
     "output_type": "display_data"
    }
   ],
   "source": [
    "sns.distplot(df_updated['Visibility(mi)'], bins = 10)"
   ]
  },
  {
   "cell_type": "markdown",
   "metadata": {},
   "source": [
    "In this graph, we see that there is a large number of car accidents occuring when the visibility is around 10 miles. A visibility of 10 miles is pretty standard and common, but there may be some other factors contributing to this spike at 10 miles. How the data was recorded could also have played a role. Since a visibility of 10 miles is common, any small deviation from 10 could just be rounded up or down to 10."
   ]
  },
  {
   "cell_type": "markdown",
   "metadata": {},
   "source": [
    "Aside from visibility, we also have weather, so let's take a look at how the number of crashes changes with the weather."
   ]
  },
  {
   "cell_type": "code",
   "execution_count": 40,
   "metadata": {},
   "outputs": [
    {
     "data": {
      "text/plain": [
       "<matplotlib.axes._subplots.AxesSubplot at 0x7f356900b6a0>"
      ]
     },
     "execution_count": 40,
     "metadata": {},
     "output_type": "execute_result"
    },
    {
     "data": {
      "image/png": "[encoded data removed]",
      "text/plain": [
       "<Figure size 1224x504 with 1 Axes>"
      ]
     },
     "metadata": {},
     "output_type": "display_data"
    }
   ],
   "source": [
    "sns.countplot(x = 'Weather_Condition', data = df_updated)"
   ]
  },
  {
   "cell_type": "markdown",
   "metadata": {},
   "source": [
    "Here, we see many accidents happening when the weather is clear or just cloudy. So, we can assume most accidents happen on any regular day with decent weather. There doesn't seem to be much of a glaring relationship between the weather and the number of accidents. The high number of accidents in clear weather could simply be due to the fact that there are many clear days in the year and not much other types of weather. For other weather types such as weather carrying some sort of precipitation, we might assume that it is due the type of weather being less frequent in the year and thus having fewer accidents. During a storm, people might try to drive more safely, as the roads are more slippery and dangerous, decreasing the number of potential accidents. Others might stay home more during a storm, so there would be less cars out on the road, but there isn't information about the volume of cars in the dataset so we would have to do further research to reach a more definitive conclusion."
   ]
  },
  {
   "cell_type": "code",
   "execution_count": 41,
   "metadata": {},
   "outputs": [],
   "source": [
    "# pd.plotting.scatter_matrix(df_updated[[ 'Visibility(mi)', 'Hour']])"
   ]
  },
  {
   "cell_type": "markdown",
   "metadata": {},
   "source": [
    "While we're still discussing weather, let's see how the severity of accidents changes according to the weather condition."
   ]
  },
  {
   "cell_type": "code",
   "execution_count": 42,
   "metadata": {},
   "outputs": [
    {
     "data": {
      "text/plain": [
       "<matplotlib.axes._subplots.AxesSubplot at 0x7f3568fb9f60>"
      ]
     },
     "execution_count": 42,
     "metadata": {},
     "output_type": "execute_result"
    },
    {
     "data": {
      "image/png": "[encoded data removed]",
      "text/plain": [
       "<Figure size 1224x504 with 1 Axes>"
      ]
     },
     "metadata": {},
     "output_type": "display_data"
    }
   ],
   "source": [
    "sns.countplot(x = 'Weather_Condition', hue = 'Severity', data = df_updated, order = ['PRECIPITATION', 'CLOUDY', 'CLEAR', 'OTHER'])"
   ]
  },
  {
   "cell_type": "markdown",
   "metadata": {},
   "source": [
    "Again, we see that clear weather has the highest number of accidents, which is consistent with what we saw with the previous graph. We also see that there is a pattern with each weather has many accidents that are rated with severity 2 and it starts to decrease as we move to severity 4. There are very few if any severity 1 accidents in each graph(we can't clearly see them on the graph, but we could go in the dataset and find them). Overall, there doesn't seem to be much of a correlation between the severity of the accident and the weather condition since the parttern is consistent across all weather types."
   ]
  },
  {
   "cell_type": "markdown",
   "metadata": {},
   "source": [
    "With the severity of the accident, let's see how the severity relates to whether or not the accident happened during rush hour."
   ]
  },
  {
   "cell_type": "code",
   "execution_count": 43,
   "metadata": {},
   "outputs": [
    {
     "data": {
      "text/plain": [
       "<matplotlib.axes._subplots.AxesSubplot at 0x7f3568ed6828>"
      ]
     },
     "execution_count": 43,
     "metadata": {},
     "output_type": "execute_result"
    },
    {
     "data": {
      "image/png": "[encoded data removed]",
      "text/plain": [
       "<Figure size 1224x504 with 1 Axes>"
      ]
     },
     "metadata": {},
     "output_type": "display_data"
    }
   ],
   "source": [
    "sns.countplot(x = 'Severity', hue='Rush_Hour', data = df_updated)"
   ]
  },
  {
   "cell_type": "markdown",
   "metadata": {},
   "source": [
    "From the graph, we can't really see many severity 1 accidents. With severity 2 and severity 3, there are more of these accidents during rush hour. However, there are more severity 4 accidents during non-rush hour. We can't just take the raw number of accidents for each category, though. Since there are more accidents during rush hour to begin with, we should take the ratio of"
   ]
  },
  {
   "cell_type": "code",
   "execution_count": 53,
   "metadata": {},
   "outputs": [
    {
     "data": {
      "text/plain": [
       "<matplotlib.axes._subplots.AxesSubplot at 0x7f3569167e10>"
      ]
     },
     "execution_count": 53,
     "metadata": {},
     "output_type": "execute_result"
    },
    {
     "data": {
      "image/png": "[encoded data removed]",
      "text/plain": [
       "<Figure size 1224x504 with 1 Axes>"
      ]
     },
     "metadata": {},
     "output_type": "display_data"
    }
   ],
   "source": [
    "sns.countplot(x = 'Severity', hue='junct_traff', data = df_updated)"
   ]
  },
  {
   "cell_type": "code",
   "execution_count": 54,
   "metadata": {},
   "outputs": [
    {
     "data": {
      "text/plain": [
       "<matplotlib.axes._subplots.AxesSubplot at 0x7f35661beb70>"
      ]
     },
     "execution_count": 54,
     "metadata": {},
     "output_type": "execute_result"
    },
    {
     "data": {
      "image/png": "[encoded data removed]",
      "text/plain": [
       "<Figure size 1224x504 with 1 Axes>"
      ]
     },
     "metadata": {},
     "output_type": "display_data"
    }
   ],
   "source": [
    "sns.countplot(x = 'Severity', hue='junct_traff_rush', data = df_updated)"
   ]
  },
  {
   "cell_type": "code",
   "execution_count": 55,
   "metadata": {},
   "outputs": [
    {
     "data": {
      "text/plain": [
       "<matplotlib.axes._subplots.AxesSubplot at 0x7f35650e4b38>"
      ]
     },
     "execution_count": 55,
     "metadata": {},
     "output_type": "execute_result"
    },
    {
     "data": {
      "image/png": "[encoded data removed]",
      "text/plain": [
       "<Figure size 1224x504 with 1 Axes>"
      ]
     },
     "metadata": {},
     "output_type": "display_data"
    }
   ],
   "source": [
    "sns.countplot(x = 'Severity', hue='junct_traff_nonrush', data = df_updated)"
   ]
  },
  {
   "cell_type": "code",
   "execution_count": 44,
   "metadata": {},
   "outputs": [
    {
     "data": {
      "text/html": [
       "<div>\n",
       "<style scoped>\n",
       "    .dataframe tbody tr th:only-of-type {\n",
       "        vertical-align: middle;\n",
       "    }\n",
       "\n",
       "    .dataframe tbody tr th {\n",
       "        vertical-align: top;\n",
       "    }\n",
       "\n",
       "    .dataframe thead th {\n",
       "        text-align: right;\n",
       "    }\n",
       "</style>\n",
       "<table border=\"1\" class=\"dataframe\">\n",
       "  <thead>\n",
       "    <tr style=\"text-align: right;\">\n",
       "      <th></th>\n",
       "      <th>Rush_Hour_ratio</th>\n",
       "      <th>Non_Rush_Hour_ratio</th>\n",
       "    </tr>\n",
       "    <tr>\n",
       "      <th>severity</th>\n",
       "      <th></th>\n",
       "      <th></th>\n",
       "    </tr>\n",
       "  </thead>\n",
       "  <tbody>\n",
       "    <tr>\n",
       "      <th>1</th>\n",
       "      <td>3.52e-04</td>\n",
       "      <td>2.94e-04</td>\n",
       "    </tr>\n",
       "    <tr>\n",
       "      <th>2</th>\n",
       "      <td>6.88e-01</td>\n",
       "      <td>6.51e-01</td>\n",
       "    </tr>\n",
       "    <tr>\n",
       "      <th>3</th>\n",
       "      <td>2.89e-01</td>\n",
       "      <td>3.07e-01</td>\n",
       "    </tr>\n",
       "    <tr>\n",
       "      <th>4</th>\n",
       "      <td>2.22e-02</td>\n",
       "      <td>4.09e-02</td>\n",
       "    </tr>\n",
       "  </tbody>\n",
       "</table>\n",
       "</div>"
      ],
      "text/plain": [
       "          Rush_Hour_ratio  Non_Rush_Hour_ratio\n",
       "severity                                      \n",
       "1                3.52e-04             2.94e-04\n",
       "2                6.88e-01             6.51e-01\n",
       "3                2.89e-01             3.07e-01\n",
       "4                2.22e-02             4.09e-02"
      ]
     },
     "execution_count": 44,
     "metadata": {},
     "output_type": "execute_result"
    }
   ],
   "source": [
    "def get_count(input):\n",
    "    df_severe = df_updated[df_updated['Severity'] == input]\n",
    "    series_severe = df_severe['Severity']\n",
    "    df_severe_RH = df_severe[df_severe['Rush_Hour'] == True]\n",
    "    df_severe_NRH = df_severe[df_severe['Rush_Hour'] == False]\n",
    "    severe_NRH_count = df_severe_NRH['Severity'].count()\n",
    "    severe_RH_count = df_severe_RH['Severity'].count()\n",
    "    return (severe_NRH_count,severe_RH_count)\n",
    "    \n",
    "severe4_NRH_count, severe4_RH_count = get_count(4)\n",
    "severe3_NRH_count, severe3_RH_count = get_count(3)\n",
    "severe2_NRH_count, severe2_RH_count = get_count(2)\n",
    "severe1_NRH_count, severe1_RH_count = get_count(1)\n",
    "\n",
    "series_severity_RH = df_rushhour['Severity']\n",
    "series_severity_NRH = df_nonrushhour['Severity']\n",
    "severity_RH_count = series_severity_RH.count()\n",
    "severity_NRH_count = series_severity_NRH.count()\n",
    "\n",
    "NRH_ratio_severe1 = severe1_NRH_count / severity_NRH_count\n",
    "RH_ratio_severe1 = severe1_RH_count / severity_RH_count \n",
    "NRH_ratio_severe2 = severe2_NRH_count / severity_NRH_count\n",
    "RH_ratio_severe2 = severe2_RH_count / severity_RH_count \n",
    "NRH_ratio_severe3 = severe3_NRH_count / severity_NRH_count\n",
    "RH_ratio_severe3 = severe3_RH_count / severity_RH_count \n",
    "NRH_ratio_severe4 = severe4_NRH_count / severity_NRH_count\n",
    "RH_ratio_severe4 = severe4_RH_count / severity_RH_count \n",
    "\n",
    "RH_ratio = np.array([RH_ratio_severe1, RH_ratio_severe2, RH_ratio_severe3, RH_ratio_severe4]) \n",
    "NRH_ratio = np.array([NRH_ratio_severe1, NRH_ratio_severe2, NRH_ratio_severe3, NRH_ratio_severe4]) \n",
    "severity = np.array([1,2,3,4])\n",
    "RH_ratio_ser = pd.Series(RH_ratio) \n",
    "NRH_ratio_ser = pd.Series(NRH_ratio) \n",
    "severity_ser = pd.Series(severity) \n",
    "\n",
    "frame = {'severity': severity_ser, 'Rush_Hour_ratio': RH_ratio_ser, 'Non_Rush_Hour_ratio': NRH_ratio_ser}\n",
    "\n",
    "df_ratio_severity = pd.DataFrame(frame)\n",
    "df_ratio_severity = df_ratio_severity.set_index('severity')\n",
    "df_ratio_severity\n"
   ]
  },
  {
   "cell_type": "code",
   "execution_count": 45,
   "metadata": {},
   "outputs": [],
   "source": [
    "df_updated.rename(columns={'Weather_Condition': 'Weather', 'Visibility(mi)': 'Visibility'}, inplace=True)"
   ]
  },
  {
   "cell_type": "code",
   "execution_count": 46,
   "metadata": {},
   "outputs": [
    {
     "name": "stdout",
     "output_type": "stream",
     "text": [
      "        Start_Time        Weather  Visibility  Severity  Junction  \\\n",
      "0         05:46:00  PRECIPITATION        10.0         3     False   \n",
      "1         06:07:59  PRECIPITATION        10.0         2     False   \n",
      "2         06:49:27         CLOUDY        10.0         2     False   \n",
      "...            ...            ...         ...       ...       ...   \n",
      "2974332   19:00:21          CLEAR        10.0         2      True   \n",
      "2974333   19:00:21          CLEAR        10.0         2     False   \n",
      "2974334   18:52:06          CLEAR         7.0         2     False   \n",
      "\n",
      "         Traffic_Signal  Hour  Rush_Hour  junct_traff  junct_traff_rush  \\\n",
      "0                 False     5      False        False             False   \n",
      "1                 False     6       True        False             False   \n",
      "2                  True     6       True         True              True   \n",
      "...                 ...   ...        ...          ...               ...   \n",
      "2974332           False    19       True         True              True   \n",
      "2974333           False    19       True        False             False   \n",
      "2974334           False    18       True        False             False   \n",
      "\n",
      "         junct_traff_nonrush  \n",
      "0                      False  \n",
      "1                      False  \n",
      "2                      False  \n",
      "...                      ...  \n",
      "2974332                False  \n",
      "2974333                False  \n",
      "2974334                False  \n",
      "\n",
      "[2901212 rows x 11 columns]\n"
     ]
    }
   ],
   "source": [
    "print(df_updated)"
   ]
  },
  {
   "cell_type": "code",
   "execution_count": 47,
   "metadata": {},
   "outputs": [],
   "source": [
    "outcome, predictors = patsy.dmatrices(\"Severity ~ Visibility\", df_updated)\n",
    "mod = sm.OLS(outcome, predictors)\n",
    "res = mod.fit()"
   ]
  },
  {
   "cell_type": "code",
   "execution_count": 48,
   "metadata": {},
   "outputs": [
    {
     "name": "stdout",
     "output_type": "stream",
     "text": [
      "                            OLS Regression Results                            \n",
      "==============================================================================\n",
      "Dep. Variable:               Severity   R-squared:                       0.000\n",
      "Model:                            OLS   Adj. R-squared:                  0.000\n",
      "Method:                 Least Squares   F-statistic:                     339.8\n",
      "Date:                Thu, 19 Mar 2020   Prob (F-statistic):           7.26e-76\n",
      "Time:                        16:18:30   Log-Likelihood:            -2.3307e+06\n",
      "No. Observations:             2901212   AIC:                         4.661e+06\n",
      "Df Residuals:                 2901210   BIC:                         4.661e+06\n",
      "Df Model:                           1                                         \n",
      "Covariance Type:            nonrobust                                         \n",
      "==============================================================================\n",
      "                 coef    std err          t      P>|t|      [0.025      0.975]\n",
      "------------------------------------------------------------------------------\n",
      "Intercept      2.3807      0.001   1913.903      0.000       2.378       2.383\n",
      "Visibility    -0.0024      0.000    -18.433      0.000      -0.003      -0.002\n",
      "==============================================================================\n",
      "Omnibus:                   435121.534   Durbin-Watson:                   1.461\n",
      "Prob(Omnibus):                  0.000   Jarque-Bera (JB):           661295.720\n",
      "Skew:                           1.156   Prob(JB):                         0.00\n",
      "Kurtosis:                       3.347   Cond. No.                         37.3\n",
      "==============================================================================\n",
      "\n",
      "Warnings:\n",
      "[1] Standard Errors assume that the covariance matrix of the errors is correctly specified.\n"
     ]
    }
   ],
   "source": [
    "print(res.summary())"
   ]
  },
  {
   "cell_type": "markdown",
   "metadata": {},
   "source": [
    "Since the coefficient of Visibility is close to zero, it doesn't affect anything. Hence, severity and visibility is not related linearly. The value of R-squared is approximately zero, meaning that the linear model that we are using does not fit the data very well. If we were to predict the severity, we would most likely get 2.3807 for any visibility distance, since the model is just; Severity = 2.3807 "
   ]
  },
  {
   "cell_type": "code",
   "execution_count": 49,
   "metadata": {},
   "outputs": [],
   "source": [
    "outcome, predictors = patsy.dmatrices(\"Severity ~ Hour\", df_updated)\n",
    "mod = sm.OLS(outcome, predictors)\n",
    "res = mod.fit()"
   ]
  },
  {
   "cell_type": "code",
   "execution_count": 50,
   "metadata": {},
   "outputs": [
    {
     "name": "stdout",
     "output_type": "stream",
     "text": [
      "                            OLS Regression Results                            \n",
      "==============================================================================\n",
      "Dep. Variable:               Severity   R-squared:                       0.001\n",
      "Model:                            OLS   Adj. R-squared:                  0.001\n",
      "Method:                 Least Squares   F-statistic:                     1776.\n",
      "Date:                Thu, 19 Mar 2020   Prob (F-statistic):               0.00\n",
      "Time:                        16:18:34   Log-Likelihood:            -2.3299e+06\n",
      "No. Observations:             2901212   AIC:                         4.660e+06\n",
      "Df Residuals:                 2901210   BIC:                         4.660e+06\n",
      "Df Model:                           1                                         \n",
      "Covariance Type:            nonrobust                                         \n",
      "==============================================================================\n",
      "                 coef    std err          t      P>|t|      [0.025      0.975]\n",
      "------------------------------------------------------------------------------\n",
      "Intercept      2.3267      0.001   2843.644      0.000       2.325       2.328\n",
      "Hour           0.0026   6.23e-05     42.145      0.000       0.003       0.003\n",
      "==============================================================================\n",
      "Omnibus:                   435986.925   Durbin-Watson:                   1.461\n",
      "Prob(Omnibus):                  0.000   Jarque-Bera (JB):           662924.523\n",
      "Skew:                           1.157   Prob(JB):                         0.00\n",
      "Kurtosis:                       3.355   Cond. No.                         34.1\n",
      "==============================================================================\n",
      "\n",
      "Warnings:\n",
      "[1] Standard Errors assume that the covariance matrix of the errors is correctly specified.\n"
     ]
    }
   ],
   "source": [
    "print(res.summary())"
   ]
  },
  {
   "cell_type": "markdown",
   "metadata": {},
   "source": [
    "Since the coefficient of hour is close to zero, hour of the day doesn't really have an impact. Severity and hour is not related linearly. The value of R-squared is 0.001, which means the linear model that we are using does not fit the data very well. if we were to predict the severity, we would most likely get 2.3267 for any hour of the day, since the model is just; Severity = 2.3267"
   ]
  },
  {
   "cell_type": "code",
   "execution_count": 51,
   "metadata": {},
   "outputs": [],
   "source": [
    "outcome, predictors = patsy.dmatrices(\"Severity ~ Weather\", df_updated)\n",
    "mod = sm.OLS(outcome, predictors)\n",
    "res = mod.fit()"
   ]
  },
  {
   "cell_type": "code",
   "execution_count": 52,
   "metadata": {},
   "outputs": [
    {
     "name": "stdout",
     "output_type": "stream",
     "text": [
      "                            OLS Regression Results                            \n",
      "==============================================================================\n",
      "Dep. Variable:               Severity   R-squared:                       0.002\n",
      "Model:                            OLS   Adj. R-squared:                  0.002\n",
      "Method:                 Least Squares   F-statistic:                     1554.\n",
      "Date:                Thu, 19 Mar 2020   Prob (F-statistic):               0.00\n",
      "Time:                        16:18:47   Log-Likelihood:            -2.3285e+06\n",
      "No. Observations:             2901212   AIC:                         4.657e+06\n",
      "Df Residuals:                 2901208   BIC:                         4.657e+06\n",
      "Df Model:                           3                                         \n",
      "Covariance Type:            nonrobust                                         \n",
      "============================================================================================\n",
      "                               coef    std err          t      P>|t|      [0.025      0.975]\n",
      "--------------------------------------------------------------------------------------------\n",
      "Intercept                    2.3416      0.000   5204.615      0.000       2.341       2.342\n",
      "Weather[T.CLOUDY]            0.0274      0.001     40.225      0.000       0.026       0.029\n",
      "Weather[T.OTHER]            -0.0119      0.002     -5.620      0.000      -0.016      -0.008\n",
      "Weather[T.PRECIPITATION]     0.0696      0.001     62.115      0.000       0.067       0.072\n",
      "==============================================================================\n",
      "Omnibus:                   435185.410   Durbin-Watson:                   1.463\n",
      "Prob(Omnibus):                  0.000   Jarque-Bera (JB):           661208.226\n",
      "Skew:                           1.156   Prob(JB):                         0.00\n",
      "Kurtosis:                       3.355   Cond. No.                         7.34\n",
      "==============================================================================\n",
      "\n",
      "Warnings:\n",
      "[1] Standard Errors assume that the covariance matrix of the errors is correctly specified.\n"
     ]
    }
   ],
   "source": [
    "print(res.summary())"
   ]
  },
  {
   "cell_type": "markdown",
   "metadata": {},
   "source": [
    "Since the coefficient of weather is close to zero, it doesn't really matter as much. Severity and Weather is not related linearly. The value of R-squared is 0.002, which means the linear model that we are using does not fit the data very well. If we were to predict the severity, we would most likely get 2.3416 for any Weather conditions, since the model is just; Severity = 2.3416 "
   ]
  },
  {
   "cell_type": "markdown",
   "metadata": {},
   "source": [
    "# Ethics & Privacy"
   ]
  },
  {
   "cell_type": "markdown",
   "metadata": {},
   "source": [
    "We have authority to access the dataset as it is a public dataset. There was no possible data bias after our examination as accident reports the data collected does not correlate with things such as stereotype perpetuation, confirmation bias, etc. We have decided on  using a dataset with a relatively low exposure of personally identifiable information (PII). The subjects in the dataset are anonymous because a unique identifier is used, there was also no unnecessary information collected from the subject. However, in our case, the subjects of the dataset are humans and we are not certain that they have been given information of consent nor did we provide a way for a subject to request their information to be removed from the dataset."
   ]
  },
  {
   "cell_type": "markdown",
   "metadata": {},
   "source": [
    "# Conclusion & Discussion"
   ]
  },
  {
   "cell_type": "markdown",
   "metadata": {},
   "source": [
    "From our analysis we found that accidents are more likely to occur during rush hour than non-rush hour. In our hypothesis, we guessed that this would be the case since there would be a higher volume of cars out on the road and thus more accidents. While our findings do indicate that accidents are more likely to happen during rush hour, we cannot say for sure that the hour is the only factor that makes accidents more likely. There may be some other conditions during rush hour that affect the accident rate.\n",
    "\n",
    "After using the Ordinary Least Squares Regression method, we found that hour, visibility and weather have little to no affect at predicting severity. we found that all of their coefficients for each conditions is close to zero. Hence it still depend heavily on volume, as the higher of volume of cars, it mostlikely has the same chance of getting an accident for everycar, but having more cars on the road increase the number of accidents.\n",
    "    \n",
    "When looking further into accidents in junctions and traffic lights, we assume that we would more likely have a  more accidents there. Because most four way intersection is usually where accidents happen. However our results also show that on junctions and traffic lights we only see a change in similar ratiosn but higher volumes for rush hours and lower volume for non rush hour. Hence our previous assumption holds, that higher volume of cars on the road increases accidents. \n",
    "    \n",
    "In conclusion, we can assume that other factors only play a small part in accidents and volume is the main cause of accidents. We could have done further if we have the total values of cars on the road on a particular day and conditions. However the lack of data limits us for further exploration. "
   ]
  },
  {
   "cell_type": "markdown",
   "metadata": {},
   "source": [
    "# Team Contributions"
   ]
  },
  {
   "cell_type": "markdown",
   "metadata": {},
   "source": [
    "*Specify who in your group worked on which parts of the project.*"
   ]
  }
 ],
 "metadata": {
  "kernelspec": {
   "display_name": "Python 3",
   "language": "python",
   "name": "python3"
  },
  "language_info": {
   "codemirror_mode": {
    "name": "ipython",
    "version": 3
   },
   "file_extension": ".py",
   "mimetype": "text/x-python",
   "name": "python",
   "nbconvert_exporter": "python",
   "pygments_lexer": "ipython3",
   "version": "3.7.6"
  }
 },
 "nbformat": 4,
 "nbformat_minor": 2
}
